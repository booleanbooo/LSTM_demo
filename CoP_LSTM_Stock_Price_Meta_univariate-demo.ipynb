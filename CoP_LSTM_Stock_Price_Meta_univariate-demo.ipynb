{
 "cells": [
  {
   "cell_type": "code",
   "execution_count": 48,
   "id": "47a94afb",
   "metadata": {},
   "outputs": [],
   "source": [
    "import pandas as pd\n",
    "import numpy as np\n",
    "\n",
    "import matplotlib.pyplot as plt\n",
    "import seaborn as sns\n",
    "sns.set_style('whitegrid')\n",
    "plt.style.use(\"fivethirtyeight\")\n",
    "%matplotlib inline\n",
    "\n",
    "# For reading stock data from yahoo\n",
    "from pandas_datareader.data import DataReader\n",
    "import yfinance as yf\n",
    "\n",
    "# For time stamps\n",
    "from datetime import datetime"
   ]
  },
  {
   "cell_type": "markdown",
   "id": "c6d49998",
   "metadata": {},
   "source": [
    "# Predicting the close stock price of Meta Platforms, Inc."
   ]
  },
  {
   "cell_type": "code",
   "execution_count": 49,
   "id": "f07a483c",
   "metadata": {},
   "outputs": [
    {
     "data": {
      "text/html": [
       "<div>\n",
       "<style scoped>\n",
       "    .dataframe tbody tr th:only-of-type {\n",
       "        vertical-align: middle;\n",
       "    }\n",
       "\n",
       "    .dataframe tbody tr th {\n",
       "        vertical-align: top;\n",
       "    }\n",
       "\n",
       "    .dataframe thead th {\n",
       "        text-align: right;\n",
       "    }\n",
       "</style>\n",
       "<table border=\"1\" class=\"dataframe\">\n",
       "  <thead>\n",
       "    <tr style=\"text-align: right;\">\n",
       "      <th></th>\n",
       "      <th>High</th>\n",
       "      <th>Low</th>\n",
       "      <th>Open</th>\n",
       "      <th>Close</th>\n",
       "      <th>Volume</th>\n",
       "      <th>Adj Close</th>\n",
       "    </tr>\n",
       "    <tr>\n",
       "      <th>Date</th>\n",
       "      <th></th>\n",
       "      <th></th>\n",
       "      <th></th>\n",
       "      <th></th>\n",
       "      <th></th>\n",
       "      <th></th>\n",
       "    </tr>\n",
       "  </thead>\n",
       "  <tbody>\n",
       "    <tr>\n",
       "      <th>2012-05-18</th>\n",
       "      <td>45.000000</td>\n",
       "      <td>38.000000</td>\n",
       "      <td>42.049999</td>\n",
       "      <td>38.230000</td>\n",
       "      <td>573576400</td>\n",
       "      <td>38.230000</td>\n",
       "    </tr>\n",
       "    <tr>\n",
       "      <th>2012-05-21</th>\n",
       "      <td>36.660000</td>\n",
       "      <td>33.000000</td>\n",
       "      <td>36.529999</td>\n",
       "      <td>34.029999</td>\n",
       "      <td>168192700</td>\n",
       "      <td>34.029999</td>\n",
       "    </tr>\n",
       "    <tr>\n",
       "      <th>2012-05-22</th>\n",
       "      <td>33.590000</td>\n",
       "      <td>30.940001</td>\n",
       "      <td>32.610001</td>\n",
       "      <td>31.000000</td>\n",
       "      <td>101786600</td>\n",
       "      <td>31.000000</td>\n",
       "    </tr>\n",
       "    <tr>\n",
       "      <th>2012-05-23</th>\n",
       "      <td>32.500000</td>\n",
       "      <td>31.360001</td>\n",
       "      <td>31.370001</td>\n",
       "      <td>32.000000</td>\n",
       "      <td>73600000</td>\n",
       "      <td>32.000000</td>\n",
       "    </tr>\n",
       "    <tr>\n",
       "      <th>2012-05-24</th>\n",
       "      <td>33.209999</td>\n",
       "      <td>31.770000</td>\n",
       "      <td>32.950001</td>\n",
       "      <td>33.029999</td>\n",
       "      <td>50237200</td>\n",
       "      <td>33.029999</td>\n",
       "    </tr>\n",
       "    <tr>\n",
       "      <th>...</th>\n",
       "      <td>...</td>\n",
       "      <td>...</td>\n",
       "      <td>...</td>\n",
       "      <td>...</td>\n",
       "      <td>...</td>\n",
       "      <td>...</td>\n",
       "    </tr>\n",
       "    <tr>\n",
       "      <th>2022-08-04</th>\n",
       "      <td>172.149994</td>\n",
       "      <td>166.800003</td>\n",
       "      <td>168.300003</td>\n",
       "      <td>170.570007</td>\n",
       "      <td>23938200</td>\n",
       "      <td>170.570007</td>\n",
       "    </tr>\n",
       "    <tr>\n",
       "      <th>2022-08-05</th>\n",
       "      <td>171.610001</td>\n",
       "      <td>165.800003</td>\n",
       "      <td>166.990005</td>\n",
       "      <td>167.110001</td>\n",
       "      <td>25816700</td>\n",
       "      <td>167.110001</td>\n",
       "    </tr>\n",
       "    <tr>\n",
       "      <th>2022-08-08</th>\n",
       "      <td>177.509995</td>\n",
       "      <td>167.130005</td>\n",
       "      <td>168.000000</td>\n",
       "      <td>170.250000</td>\n",
       "      <td>27299100</td>\n",
       "      <td>170.250000</td>\n",
       "    </tr>\n",
       "    <tr>\n",
       "      <th>2022-08-09</th>\n",
       "      <td>169.529999</td>\n",
       "      <td>166.600006</td>\n",
       "      <td>168.949997</td>\n",
       "      <td>168.529999</td>\n",
       "      <td>18655100</td>\n",
       "      <td>168.529999</td>\n",
       "    </tr>\n",
       "    <tr>\n",
       "      <th>2022-08-10</th>\n",
       "      <td>180.479996</td>\n",
       "      <td>173.949997</td>\n",
       "      <td>175.990005</td>\n",
       "      <td>178.339996</td>\n",
       "      <td>29876851</td>\n",
       "      <td>178.339996</td>\n",
       "    </tr>\n",
       "  </tbody>\n",
       "</table>\n",
       "<p>2574 rows × 6 columns</p>\n",
       "</div>"
      ],
      "text/plain": [
       "                  High         Low        Open       Close     Volume  \\\n",
       "Date                                                                    \n",
       "2012-05-18   45.000000   38.000000   42.049999   38.230000  573576400   \n",
       "2012-05-21   36.660000   33.000000   36.529999   34.029999  168192700   \n",
       "2012-05-22   33.590000   30.940001   32.610001   31.000000  101786600   \n",
       "2012-05-23   32.500000   31.360001   31.370001   32.000000   73600000   \n",
       "2012-05-24   33.209999   31.770000   32.950001   33.029999   50237200   \n",
       "...                ...         ...         ...         ...        ...   \n",
       "2022-08-04  172.149994  166.800003  168.300003  170.570007   23938200   \n",
       "2022-08-05  171.610001  165.800003  166.990005  167.110001   25816700   \n",
       "2022-08-08  177.509995  167.130005  168.000000  170.250000   27299100   \n",
       "2022-08-09  169.529999  166.600006  168.949997  168.529999   18655100   \n",
       "2022-08-10  180.479996  173.949997  175.990005  178.339996   29876851   \n",
       "\n",
       "             Adj Close  \n",
       "Date                    \n",
       "2012-05-18   38.230000  \n",
       "2012-05-21   34.029999  \n",
       "2012-05-22   31.000000  \n",
       "2012-05-23   32.000000  \n",
       "2012-05-24   33.029999  \n",
       "...                ...  \n",
       "2022-08-04  170.570007  \n",
       "2022-08-05  167.110001  \n",
       "2022-08-08  170.250000  \n",
       "2022-08-09  168.529999  \n",
       "2022-08-10  178.339996  \n",
       "\n",
       "[2574 rows x 6 columns]"
      ]
     },
     "execution_count": 49,
     "metadata": {},
     "output_type": "execute_result"
    }
   ],
   "source": [
    "# Get the stock price\n",
    "df = DataReader('META', data_source='yahoo', start='2012-01-01', end=datetime.now())\n",
    "# Show the data\n",
    "df"
   ]
  },
  {
   "cell_type": "code",
   "execution_count": 50,
   "id": "5a3f5315",
   "metadata": {},
   "outputs": [],
   "source": [
    "df = df.iloc[:-4]"
   ]
  },
  {
   "cell_type": "code",
   "execution_count": 51,
   "id": "7e42b61e",
   "metadata": {},
   "outputs": [
    {
     "data": {
      "image/png": "[encoded data removed]",
      "text/plain": [
       "<Figure size 1152x432 with 1 Axes>"
      ]
     },
     "metadata": {
      "needs_background": "light"
     },
     "output_type": "display_data"
    }
   ],
   "source": [
    "plt.figure(figsize=(16,6))\n",
    "plt.title('Close Price History')\n",
    "plt.plot(df['Close'])\n",
    "plt.xlabel('Date', fontsize=18)\n",
    "plt.ylabel('Close Price USD ($)', fontsize=18)\n",
    "plt.show()"
   ]
  },
  {
   "cell_type": "markdown",
   "id": "dae52a8c",
   "metadata": {},
   "source": [
    "# Univariate Time Series Analysis : 1-step-ahead forecast"
   ]
  },
  {
   "cell_type": "markdown",
   "id": "7ff85762",
   "metadata": {},
   "source": [
    "## Step 1: Specify the data"
   ]
  },
  {
   "cell_type": "code",
   "execution_count": 52,
   "id": "d7566bf9",
   "metadata": {},
   "outputs": [],
   "source": [
    "# Create a new dataframe with only the 'Close column \n",
    "data = df.filter(['Close'])\n",
    "# Convert the dataframe to a numpy array\n",
    "dataset = data.values"
   ]
  },
  {
   "cell_type": "markdown",
   "id": "f4941267",
   "metadata": {},
   "source": [
    "## Step 2: Split into train,validation and test"
   ]
  },
  {
   "cell_type": "code",
   "execution_count": 53,
   "id": "970fbbbc",
   "metadata": {},
   "outputs": [],
   "source": [
    "data_seq=dataset.flatten().tolist()\n",
    "#dataset.reshape(-1).tolist()\n",
    "training_data_len=round(0.8*len(data_seq))\n",
    "data_train=data_seq[:training_data_len]\n",
    "data_test=data_seq[training_data_len:]"
   ]
  },
  {
   "cell_type": "markdown",
   "id": "7ed4d7c8",
   "metadata": {},
   "source": [
    "## Step 3: standardization and keep a record of the scaler"
   ]
  },
  {
   "cell_type": "code",
   "execution_count": 54,
   "id": "5c9115a5",
   "metadata": {},
   "outputs": [],
   "source": [
    "# Scale the data\n",
    "from sklearn.preprocessing import MinMaxScaler\n",
    "\n",
    "scaler = MinMaxScaler(feature_range=(0,1))\n",
    "scaled_train = scaler.fit_transform(np.array(data_train).reshape(-1,1))"
   ]
  },
  {
   "cell_type": "markdown",
   "id": "5c74c10b",
   "metadata": {},
   "source": [
    "## Step 4: Transform the data into required structure"
   ]
  },
  {
   "cell_type": "code",
   "execution_count": 55,
   "id": "85d1ea33",
   "metadata": {},
   "outputs": [],
   "source": [
    "# split a univariate sequence into samples\n",
    "def split_sequence(sequence, n_steps):\n",
    "\tx, y = list(), list()\n",
    "\tfor i in range(len(sequence)):\n",
    "\t\t# find the end of this pattern\n",
    "\t\tend_ix = i + n_steps\n",
    "\t\t# check if we are beyond the sequence\n",
    "\t\tif end_ix > len(sequence)-1:\n",
    "\t\t\tbreak\n",
    "\t\t# gather input and output parts of the pattern\n",
    "\t\tseq_x, seq_y = sequence[i:end_ix], sequence[end_ix]\n",
    "\t\tx.append(seq_x)\n",
    "\t\ty.append(seq_y)\n",
    "\treturn array(x), array(y)"
   ]
  },
  {
   "cell_type": "code",
   "execution_count": 56,
   "id": "0ae5e3a0",
   "metadata": {},
   "outputs": [],
   "source": [
    "from numpy import array\n",
    "# define input sequence\n",
    "raw_seq = scaled_train.reshape(1,scaled_train.shape[0]).tolist()\n",
    "raw_seq = raw_seq[0]\n",
    "# choose a number of time steps\n",
    "n_steps = 60\n",
    "# split into samples\n",
    "x, y = split_sequence(raw_seq, n_steps)"
   ]
  },
  {
   "cell_type": "code",
   "execution_count": 57,
   "id": "58f2038a",
   "metadata": {},
   "outputs": [],
   "source": [
    "train_len=round(x.shape[0]*0.8)"
   ]
  },
  {
   "cell_type": "code",
   "execution_count": 58,
   "id": "d64d9276",
   "metadata": {},
   "outputs": [],
   "source": [
    "# Convert the x_train and y_train to numpy arrays \n",
    "n_features = 1\n",
    "x_train, y_train = x[0:train_len, :], y[0:train_len]\n",
    "x_train = x_train.reshape((x_train.shape[0], x_train.shape[1], n_features))\n",
    "\n",
    "x_validate, y_validate = x[train_len:, :], y[train_len:]\n",
    "x_validate = x_validate.reshape((x_validate.shape[0], x_validate.shape[1], n_features))"
   ]
  },
  {
   "cell_type": "code",
   "execution_count": 59,
   "id": "6ea23e43",
   "metadata": {},
   "outputs": [
    {
     "name": "stdout",
     "output_type": "stream",
     "text": [
      "(1597, 60, 1) (1597,) (399, 60, 1) (399,)\n"
     ]
    }
   ],
   "source": [
    "print(x_train.shape,y_train.shape,x_validate.shape,y_validate.shape)"
   ]
  },
  {
   "cell_type": "markdown",
   "id": "9b9dbce5",
   "metadata": {},
   "source": [
    "## Step 5: Train the model using keras"
   ]
  },
  {
   "cell_type": "code",
   "execution_count": 60,
   "id": "04aeb91e",
   "metadata": {},
   "outputs": [
    {
     "name": "stdout",
     "output_type": "stream",
     "text": [
      "Epoch 1/20\n",
      "25/25 [==============================] - 4s 96ms/step - loss: 0.0246 - val_loss: 0.0016\n",
      "Epoch 2/20\n",
      "25/25 [==============================] - 2s 84ms/step - loss: 9.1947e-04 - val_loss: 0.0018\n",
      "Epoch 3/20\n",
      "25/25 [==============================] - 2s 85ms/step - loss: 3.7036e-04 - val_loss: 0.0016\n",
      "Epoch 4/20\n",
      "25/25 [==============================] - 2s 84ms/step - loss: 3.2916e-04 - val_loss: 0.0016\n",
      "Epoch 5/20\n",
      "25/25 [==============================] - 2s 83ms/step - loss: 3.3206e-04 - val_loss: 0.0014\n",
      "Epoch 6/20\n",
      "25/25 [==============================] - 2s 80ms/step - loss: 3.3099e-04 - val_loss: 0.0015\n",
      "Epoch 7/20\n",
      "25/25 [==============================] - 2s 80ms/step - loss: 3.2314e-04 - val_loss: 0.0015\n",
      "Epoch 8/20\n",
      "25/25 [==============================] - 2s 78ms/step - loss: 3.2339e-04 - val_loss: 0.0016\n",
      "Epoch 9/20\n",
      "25/25 [==============================] - 2s 84ms/step - loss: 3.2705e-04 - val_loss: 0.0015\n",
      "Epoch 10/20\n",
      "25/25 [==============================] - 2s 84ms/step - loss: 3.2166e-04 - val_loss: 0.0015\n",
      "Epoch 11/20\n",
      "25/25 [==============================] - 2s 83ms/step - loss: 3.2084e-04 - val_loss: 0.0013\n",
      "Epoch 12/20\n",
      "25/25 [==============================] - 2s 81ms/step - loss: 3.1302e-04 - val_loss: 0.0014\n",
      "Epoch 13/20\n",
      "25/25 [==============================] - 2s 82ms/step - loss: 3.1501e-04 - val_loss: 0.0013\n",
      "Epoch 14/20\n",
      "25/25 [==============================] - 2s 80ms/step - loss: 3.0586e-04 - val_loss: 0.0013\n",
      "Epoch 15/20\n",
      "25/25 [==============================] - 2s 81ms/step - loss: 3.0323e-04 - val_loss: 0.0015\n",
      "Epoch 16/20\n",
      "25/25 [==============================] - 2s 80ms/step - loss: 3.0795e-04 - val_loss: 0.0014\n",
      "Epoch 17/20\n",
      "25/25 [==============================] - 2s 80ms/step - loss: 3.1599e-04 - val_loss: 0.0012\n",
      "Epoch 18/20\n",
      "25/25 [==============================] - 2s 80ms/step - loss: 3.0173e-04 - val_loss: 0.0013\n",
      "Epoch 19/20\n",
      "25/25 [==============================] - 2s 86ms/step - loss: 2.9231e-04 - val_loss: 0.0013\n",
      "Epoch 20/20\n",
      "25/25 [==============================] - 2s 88ms/step - loss: 2.8978e-04 - val_loss: 0.0014\n"
     ]
    }
   ],
   "source": [
    "from keras.models import Sequential\n",
    "from keras.layers import Dense, LSTM\n",
    "\n",
    "# Build the LSTM model\n",
    "model = Sequential()\n",
    "model.add(LSTM(128, return_sequences=True, input_shape= (x_train.shape[1], 1)))\n",
    "model.add(LSTM(64, return_sequences=False))\n",
    "model.add(Dense(25))\n",
    "model.add(Dense(1))\n",
    "\n",
    "# Compile the model\n",
    "model.compile(optimizer='adam', loss='mean_squared_error')\n",
    "\n",
    "# Train the model\n",
    "history_lstm=model.fit(x_train,y_train,validation_data=(x_validate,y_validate),epochs=20,batch_size=64,verbose=1)"
   ]
  },
  {
   "cell_type": "markdown",
   "id": "14646b42",
   "metadata": {},
   "source": [
    "## Step 6: Evaluate and plot"
   ]
  },
  {
   "cell_type": "code",
   "execution_count": 61,
   "id": "83615439",
   "metadata": {},
   "outputs": [
    {
     "data": {
      "image/png": "[encoded data removed]",
      "text/plain": [
       "<Figure size 432x288 with 1 Axes>"
      ]
     },
     "metadata": {
      "needs_background": "light"
     },
     "output_type": "display_data"
    }
   ],
   "source": [
    "import matplotlib.pyplot as plt\n",
    "plt.plot(history_lstm.history['loss'])\n",
    "plt.plot(history_lstm.history['val_loss'])\n",
    "plt.title(\"LSTM Model Loss\")\n",
    "plt.xlabel('Epochs')\n",
    "plt.ylabel('Loss')\n",
    "plt.legend(['Train', 'Valid'])\n",
    "plt.show()"
   ]
  },
  {
   "cell_type": "code",
   "execution_count": 62,
   "id": "39e501f0",
   "metadata": {},
   "outputs": [],
   "source": [
    "scaled_test = scaler.transform(np.array(data_test).reshape(-1,1))\n",
    "# define input sequence\n",
    "raw_seq = scaled_test.reshape(1,scaled_test.shape[0]).tolist()\n",
    "raw_seq = raw_seq[0]\n",
    "# choose a number of time steps\n",
    "n_steps = 60\n",
    "# split into samples\n",
    "x_test, y_test = split_sequence(raw_seq, n_steps)"
   ]
  },
  {
   "cell_type": "code",
   "execution_count": 63,
   "id": "68550249",
   "metadata": {},
   "outputs": [
    {
     "data": {
      "text/plain": [
       "17.798698791686583"
      ]
     },
     "execution_count": 63,
     "metadata": {},
     "output_type": "execute_result"
    }
   ],
   "source": [
    "# Get the models predicted price values\n",
    "predictions = model.predict(x_test)\n",
    "predictions = scaler.inverse_transform(predictions)\n",
    "y_test=scaler.inverse_transform(y_test.reshape(-1, 1))\n",
    "# Get the root mean squared error (RMSE)\n",
    "rmse = np.sqrt(np.mean(((predictions - y_test) ** 2)))\n",
    "rmse"
   ]
  },
  {
   "cell_type": "code",
   "execution_count": 64,
   "id": "4c60985b",
   "metadata": {},
   "outputs": [],
   "source": [
    "idx=x_train.shape[0]+x_validate.shape[0]+2*n_steps\n",
    "df_test=data.iloc[idx:]"
   ]
  },
  {
   "cell_type": "code",
   "execution_count": 65,
   "id": "d7bb4cd0",
   "metadata": {},
   "outputs": [],
   "source": [
    "predictions=pd.Series(predictions.flatten())\n",
    "#predictions=pd.Series(predictions)\n",
    "predictions.index=df_test.index"
   ]
  },
  {
   "cell_type": "code",
   "execution_count": 66,
   "id": "5839283f",
   "metadata": {},
   "outputs": [],
   "source": [
    "df_test = df_test.assign(predictions = predictions)"
   ]
  },
  {
   "cell_type": "code",
   "execution_count": 67,
   "id": "1889765e",
   "metadata": {},
   "outputs": [
    {
     "data": {
      "text/html": [
       "        <script type=\"text/javascript\">\n",
       "        window.PlotlyConfig = {MathJaxConfig: 'local'};\n",
       "        if (window.MathJax) {MathJax.Hub.Config({SVG: {font: \"STIX-Web\"}});}\n",
       "        if (typeof require !== 'undefined') {\n",
       "        require.undef(\"plotly\");\n",
       "        requirejs.config({\n",
       "            paths: {\n",
       "                'plotly': ['https://cdn.plot.ly/plotly-2.8.3.min']\n",
       "            }\n",
       "        });\n",
       "        require(['plotly'], function(Plotly) {\n",
       "            window._Plotly = Plotly;\n",
       "        });\n",
       "        }\n",
       "        </script>\n",
       "        "
      ]
     },
     "metadata": {},
     "output_type": "display_data"
    }
   ],
   "source": [
    "# Plot imports\n",
    "import chart_studio.plotly as py\n",
    "#import plotly.plotly as py\n",
    "import plotly.graph_objs as go\n",
    "\n",
    "## Offline mode\n",
    "from plotly.offline import init_notebook_mode, iplot\n",
    "init_notebook_mode(connected=True)"
   ]
  },
  {
   "cell_type": "code",
   "execution_count": 68,
   "id": "09c21acd",
   "metadata": {},
   "outputs": [
    {
     "data": {
      "application/vnd.plotly.v1+json": {
       "config": {
        "plotlyServerURL": "https://plot.ly"
       },
       "data": [
        {
         "line": {
          "color": "gold"
         },
         "name": "actual",
         "type": "scatter",
         "x": [
          "2020-10-15T00:00:00",
          "2020-10-16T00:00:00",
          "2020-10-19T00:00:00",
          "2020-10-20T00:00:00",
          "2020-10-21T00:00:00",
          "2020-10-22T00:00:00",
          "2020-10-23T00:00:00",
          "2020-10-26T00:00:00",
          "2020-10-27T00:00:00",
          "2020-10-28T00:00:00",
          "2020-10-29T00:00:00",
          "2020-10-30T00:00:00",
          "2020-11-02T00:00:00",
          "2020-11-03T00:00:00",
          "2020-11-04T00:00:00",
          "2020-11-05T00:00:00",
          "2020-11-06T00:00:00",
          "2020-11-09T00:00:00",
          "2020-11-10T00:00:00",
          "2020-11-11T00:00:00",
          "2020-11-12T00:00:00",
          "2020-11-13T00:00:00",
          "2020-11-16T00:00:00",
          "2020-11-17T00:00:00",
          "2020-11-18T00:00:00",
          "2020-11-19T00:00:00",
          "2020-11-20T00:00:00",
          "2020-11-23T00:00:00",
          "2020-11-24T00:00:00",
          "2020-11-25T00:00:00",
          "2020-11-27T00:00:00",
          "2020-11-30T00:00:00",
          "2020-12-01T00:00:00",
          "2020-12-02T00:00:00",
          "2020-12-03T00:00:00",
          "2020-12-04T00:00:00",
          "2020-12-07T00:00:00",
          "2020-12-08T00:00:00",
          "2020-12-09T00:00:00",
          "2020-12-10T00:00:00",
          "2020-12-11T00:00:00",
          "2020-12-14T00:00:00",
          "2020-12-15T00:00:00",
          "2020-12-16T00:00:00",
          "2020-12-17T00:00:00",
          "2020-12-18T00:00:00",
          "2020-12-21T00:00:00",
          "2020-12-22T00:00:00",
          "2020-12-23T00:00:00",
          "2020-12-24T00:00:00",
          "2020-12-28T00:00:00",
          "2020-12-29T00:00:00",
          "2020-12-30T00:00:00",
          "2020-12-31T00:00:00",
          "2021-01-04T00:00:00",
          "2021-01-05T00:00:00",
          "2021-01-06T00:00:00",
          "2021-01-07T00:00:00",
          "2021-01-08T00:00:00",
          "2021-01-11T00:00:00",
          "2021-01-12T00:00:00",
          "2021-01-13T00:00:00",
          "2021-01-14T00:00:00",
          "2021-01-15T00:00:00",
          "2021-01-19T00:00:00",
          "2021-01-20T00:00:00",
          "2021-01-21T00:00:00",
          "2021-01-22T00:00:00",
          "2021-01-25T00:00:00",
          "2021-01-26T00:00:00",
          "2021-01-27T00:00:00",
          "2021-01-28T00:00:00",
          "2021-01-29T00:00:00",
          "2021-02-01T00:00:00",
          "2021-02-02T00:00:00",
          "2021-02-03T00:00:00",
          "2021-02-04T00:00:00",
          "2021-02-05T00:00:00",
          "2021-02-08T00:00:00",
          "2021-02-09T00:00:00",
          "2021-02-10T00:00:00",
          "2021-02-11T00:00:00",
          "2021-02-12T00:00:00",
          "2021-02-16T00:00:00",
          "2021-02-17T00:00:00",
          "2021-02-18T00:00:00",
          "2021-02-19T00:00:00",
          "2021-02-22T00:00:00",
          "2021-02-23T00:00:00",
          "2021-02-24T00:00:00",
          "2021-02-25T00:00:00",
          "2021-02-26T00:00:00",
          "2021-03-01T00:00:00",
          "2021-03-02T00:00:00",
          "2021-03-03T00:00:00",
          "2021-03-04T00:00:00",
          "2021-03-05T00:00:00",
          "2021-03-08T00:00:00",
          "2021-03-09T00:00:00",
          "2021-03-10T00:00:00",
          "2021-03-11T00:00:00",
          "2021-03-12T00:00:00",
          "2021-03-15T00:00:00",
          "2021-03-16T00:00:00",
          "2021-03-17T00:00:00",
          "2021-03-18T00:00:00",
          "2021-03-19T00:00:00",
          "2021-03-22T00:00:00",
          "2021-03-23T00:00:00",
          "2021-03-24T00:00:00",
          "2021-03-25T00:00:00",
          "2021-03-26T00:00:00",
          "2021-03-29T00:00:00",
          "2021-03-30T00:00:00",
          "2021-03-31T00:00:00",
          "2021-04-01T00:00:00",
          "2021-04-05T00:00:00",
          "2021-04-06T00:00:00",
          "2021-04-07T00:00:00",
          "2021-04-08T00:00:00",
          "2021-04-09T00:00:00",
          "2021-04-12T00:00:00",
          "2021-04-13T00:00:00",
          "2021-04-14T00:00:00",
          "2021-04-15T00:00:00",
          "2021-04-16T00:00:00",
          "2021-04-19T00:00:00",
          "2021-04-20T00:00:00",
          "2021-04-21T00:00:00",
          "2021-04-22T00:00:00",
          "2021-04-23T00:00:00",
          "2021-04-26T00:00:00",
          "2021-04-27T00:00:00",
          "2021-04-28T00:00:00",
          "2021-04-29T00:00:00",
          "2021-04-30T00:00:00",
          "2021-05-03T00:00:00",
          "2021-05-04T00:00:00",
          "2021-05-05T00:00:00",
          "2021-05-06T00:00:00",
          "2021-05-07T00:00:00",
          "2021-05-10T00:00:00",
          "2021-05-11T00:00:00",
          "2021-05-12T00:00:00",
          "2021-05-13T00:00:00",
          "2021-05-14T00:00:00",
          "2021-05-17T00:00:00",
          "2021-05-18T00:00:00",
          "2021-05-19T00:00:00",
          "2021-05-20T00:00:00",
          "2021-05-21T00:00:00",
          "2021-05-24T00:00:00",
          "2021-05-25T00:00:00",
          "2021-05-26T00:00:00",
          "2021-05-27T00:00:00",
          "2021-05-28T00:00:00",
          "2021-06-01T00:00:00",
          "2021-06-02T00:00:00",
          "2021-06-03T00:00:00",
          "2021-06-04T00:00:00",
          "2021-06-07T00:00:00",
          "2021-06-08T00:00:00",
          "2021-06-09T00:00:00",
          "2021-06-10T00:00:00",
          "2021-06-11T00:00:00",
          "2021-06-14T00:00:00",
          "2021-06-15T00:00:00",
          "2021-06-16T00:00:00",
          "2021-06-17T00:00:00",
          "2021-06-18T00:00:00",
          "2021-06-21T00:00:00",
          "2021-06-22T00:00:00",
          "2021-06-23T00:00:00",
          "2021-06-24T00:00:00",
          "2021-06-25T00:00:00",
          "2021-06-28T00:00:00",
          "2021-06-29T00:00:00",
          "2021-06-30T00:00:00",
          "2021-07-01T00:00:00",
          "2021-07-02T00:00:00",
          "2021-07-06T00:00:00",
          "2021-07-07T00:00:00",
          "2021-07-08T00:00:00",
          "2021-07-09T00:00:00",
          "2021-07-12T00:00:00",
          "2021-07-13T00:00:00",
          "2021-07-14T00:00:00",
          "2021-07-15T00:00:00",
          "2021-07-16T00:00:00",
          "2021-07-19T00:00:00",
          "2021-07-20T00:00:00",
          "2021-07-21T00:00:00",
          "2021-07-22T00:00:00",
          "2021-07-23T00:00:00",
          "2021-07-26T00:00:00",
          "2021-07-27T00:00:00",
          "2021-07-28T00:00:00",
          "2021-07-29T00:00:00",
          "2021-07-30T00:00:00",
          "2021-08-02T00:00:00",
          "2021-08-03T00:00:00",
          "2021-08-04T00:00:00",
          "2021-08-05T00:00:00",
          "2021-08-06T00:00:00",
          "2021-08-09T00:00:00",
          "2021-08-10T00:00:00",
          "2021-08-11T00:00:00",
          "2021-08-12T00:00:00",
          "2021-08-13T00:00:00",
          "2021-08-16T00:00:00",
          "2021-08-17T00:00:00",
          "2021-08-18T00:00:00",
          "2021-08-19T00:00:00",
          "2021-08-20T00:00:00",
          "2021-08-23T00:00:00",
          "2021-08-24T00:00:00",
          "2021-08-25T00:00:00",
          "2021-08-26T00:00:00",
          "2021-08-27T00:00:00",
          "2021-08-30T00:00:00",
          "2021-08-31T00:00:00",
          "2021-09-01T00:00:00",
          "2021-09-02T00:00:00",
          "2021-09-03T00:00:00",
          "2021-09-07T00:00:00",
          "2021-09-08T00:00:00",
          "2021-09-09T00:00:00",
          "2021-09-10T00:00:00",
          "2021-09-13T00:00:00",
          "2021-09-14T00:00:00",
          "2021-09-15T00:00:00",
          "2021-09-16T00:00:00",
          "2021-09-17T00:00:00",
          "2021-09-20T00:00:00",
          "2021-09-21T00:00:00",
          "2021-09-22T00:00:00",
          "2021-09-23T00:00:00",
          "2021-09-24T00:00:00",
          "2021-09-27T00:00:00",
          "2021-09-28T00:00:00",
          "2021-09-29T00:00:00",
          "2021-09-30T00:00:00",
          "2021-10-01T00:00:00",
          "2021-10-04T00:00:00",
          "2021-10-05T00:00:00",
          "2021-10-06T00:00:00",
          "2021-10-07T00:00:00",
          "2021-10-08T00:00:00",
          "2021-10-11T00:00:00",
          "2021-10-12T00:00:00",
          "2021-10-13T00:00:00",
          "2021-10-14T00:00:00",
          "2021-10-15T00:00:00",
          "2021-10-18T00:00:00",
          "2021-10-19T00:00:00",
          "2021-10-20T00:00:00",
          "2021-10-21T00:00:00",
          "2021-10-22T00:00:00",
          "2021-10-25T00:00:00",
          "2021-10-26T00:00:00",
          "2021-10-27T00:00:00",
          "2021-10-28T00:00:00",
          "2021-10-29T00:00:00",
          "2021-11-01T00:00:00",
          "2021-11-02T00:00:00",
          "2021-11-03T00:00:00",
          "2021-11-04T00:00:00",
          "2021-11-05T00:00:00",
          "2021-11-08T00:00:00",
          "2021-11-09T00:00:00",
          "2021-11-10T00:00:00",
          "2021-11-11T00:00:00",
          "2021-11-12T00:00:00",
          "2021-11-15T00:00:00",
          "2021-11-16T00:00:00",
          "2021-11-17T00:00:00",
          "2021-11-18T00:00:00",
          "2021-11-19T00:00:00",
          "2021-11-22T00:00:00",
          "2021-11-23T00:00:00",
          "2021-11-24T00:00:00",
          "2021-11-26T00:00:00",
          "2021-11-29T00:00:00",
          "2021-11-30T00:00:00",
          "2021-12-01T00:00:00",
          "2021-12-02T00:00:00",
          "2021-12-03T00:00:00",
          "2021-12-06T00:00:00",
          "2021-12-07T00:00:00",
          "2021-12-08T00:00:00",
          "2021-12-09T00:00:00",
          "2021-12-10T00:00:00",
          "2021-12-13T00:00:00",
          "2021-12-14T00:00:00",
          "2021-12-15T00:00:00",
          "2021-12-16T00:00:00",
          "2021-12-17T00:00:00",
          "2021-12-20T00:00:00",
          "2021-12-21T00:00:00",
          "2021-12-22T00:00:00",
          "2021-12-23T00:00:00",
          "2021-12-27T00:00:00",
          "2021-12-28T00:00:00",
          "2021-12-29T00:00:00",
          "2021-12-30T00:00:00",
          "2021-12-31T00:00:00",
          "2022-01-03T00:00:00",
          "2022-01-04T00:00:00",
          "2022-01-05T00:00:00",
          "2022-01-06T00:00:00",
          "2022-01-07T00:00:00",
          "2022-01-10T00:00:00",
          "2022-01-11T00:00:00",
          "2022-01-12T00:00:00",
          "2022-01-13T00:00:00",
          "2022-01-14T00:00:00",
          "2022-01-18T00:00:00",
          "2022-01-19T00:00:00",
          "2022-01-20T00:00:00",
          "2022-01-21T00:00:00",
          "2022-01-24T00:00:00",
          "2022-01-25T00:00:00",
          "2022-01-26T00:00:00",
          "2022-01-27T00:00:00",
          "2022-01-28T00:00:00",
          "2022-01-31T00:00:00",
          "2022-02-01T00:00:00",
          "2022-02-02T00:00:00",
          "2022-02-03T00:00:00",
          "2022-02-04T00:00:00",
          "2022-02-07T00:00:00",
          "2022-02-08T00:00:00",
          "2022-02-09T00:00:00",
          "2022-02-10T00:00:00",
          "2022-02-11T00:00:00",
          "2022-02-14T00:00:00",
          "2022-02-15T00:00:00",
          "2022-02-16T00:00:00",
          "2022-02-17T00:00:00",
          "2022-02-18T00:00:00",
          "2022-02-22T00:00:00",
          "2022-02-23T00:00:00",
          "2022-02-24T00:00:00",
          "2022-02-25T00:00:00",
          "2022-02-28T00:00:00",
          "2022-03-01T00:00:00",
          "2022-03-02T00:00:00",
          "2022-03-03T00:00:00",
          "2022-03-04T00:00:00",
          "2022-03-07T00:00:00",
          "2022-03-08T00:00:00",
          "2022-03-09T00:00:00",
          "2022-03-10T00:00:00",
          "2022-03-11T00:00:00",
          "2022-03-14T00:00:00",
          "2022-03-15T00:00:00",
          "2022-03-16T00:00:00",
          "2022-03-17T00:00:00",
          "2022-03-18T00:00:00",
          "2022-03-21T00:00:00",
          "2022-03-22T00:00:00",
          "2022-03-23T00:00:00",
          "2022-03-24T00:00:00",
          "2022-03-25T00:00:00",
          "2022-03-28T00:00:00",
          "2022-03-29T00:00:00",
          "2022-03-30T00:00:00",
          "2022-03-31T00:00:00",
          "2022-04-01T00:00:00",
          "2022-04-04T00:00:00",
          "2022-04-05T00:00:00",
          "2022-04-06T00:00:00",
          "2022-04-07T00:00:00",
          "2022-04-08T00:00:00",
          "2022-04-11T00:00:00",
          "2022-04-12T00:00:00",
          "2022-04-13T00:00:00",
          "2022-04-14T00:00:00",
          "2022-04-18T00:00:00",
          "2022-04-19T00:00:00",
          "2022-04-20T00:00:00",
          "2022-04-21T00:00:00",
          "2022-04-22T00:00:00",
          "2022-04-25T00:00:00",
          "2022-04-26T00:00:00",
          "2022-04-27T00:00:00",
          "2022-04-28T00:00:00",
          "2022-04-29T00:00:00",
          "2022-05-02T00:00:00",
          "2022-05-03T00:00:00",
          "2022-05-04T00:00:00",
          "2022-05-05T00:00:00",
          "2022-05-06T00:00:00",
          "2022-05-09T00:00:00",
          "2022-05-10T00:00:00",
          "2022-05-11T00:00:00",
          "2022-05-12T00:00:00",
          "2022-05-13T00:00:00",
          "2022-05-16T00:00:00",
          "2022-05-17T00:00:00",
          "2022-05-18T00:00:00",
          "2022-05-19T00:00:00",
          "2022-05-20T00:00:00",
          "2022-05-23T00:00:00",
          "2022-05-24T00:00:00",
          "2022-05-25T00:00:00",
          "2022-05-26T00:00:00",
          "2022-05-27T00:00:00",
          "2022-05-31T00:00:00",
          "2022-06-01T00:00:00",
          "2022-06-02T00:00:00",
          "2022-06-03T00:00:00",
          "2022-06-06T00:00:00",
          "2022-06-07T00:00:00",
          "2022-06-08T00:00:00",
          "2022-06-09T00:00:00",
          "2022-06-10T00:00:00",
          "2022-06-13T00:00:00",
          "2022-06-14T00:00:00",
          "2022-06-15T00:00:00",
          "2022-06-16T00:00:00",
          "2022-06-17T00:00:00",
          "2022-06-21T00:00:00",
          "2022-06-22T00:00:00",
          "2022-06-23T00:00:00",
          "2022-06-24T00:00:00",
          "2022-06-27T00:00:00",
          "2022-06-28T00:00:00",
          "2022-06-29T00:00:00",
          "2022-06-30T00:00:00",
          "2022-07-01T00:00:00",
          "2022-07-05T00:00:00",
          "2022-07-06T00:00:00",
          "2022-07-07T00:00:00",
          "2022-07-08T00:00:00",
          "2022-07-11T00:00:00",
          "2022-07-12T00:00:00",
          "2022-07-13T00:00:00",
          "2022-07-14T00:00:00",
          "2022-07-15T00:00:00",
          "2022-07-18T00:00:00",
          "2022-07-19T00:00:00",
          "2022-07-20T00:00:00",
          "2022-07-21T00:00:00",
          "2022-07-22T00:00:00",
          "2022-07-25T00:00:00",
          "2022-07-26T00:00:00",
          "2022-07-27T00:00:00",
          "2022-07-28T00:00:00",
          "2022-07-29T00:00:00",
          "2022-08-01T00:00:00",
          "2022-08-02T00:00:00",
          "2022-08-03T00:00:00",
          "2022-08-04T00:00:00"
         ],
         "y": [
          266.7200012207031,
          265.92999267578125,
          261.3999938964844,
          267.55999755859375,
          278.7300109863281,
          278.1199951171875,
          284.7900085449219,
          277.1099853515625,
          283.2900085449219,
          267.6700134277344,
          280.8299865722656,
          263.1099853515625,
          261.3599853515625,
          265.29998779296875,
          287.3800048828125,
          294.67999267578125,
          293.4100036621094,
          278.7699890136719,
          272.42999267578125,
          276.4800109863281,
          275.0799865722656,
          276.95001220703125,
          278.9599914550781,
          275,
          271.9700012207031,
          272.94000244140625,
          269.70001220703125,
          268.42999267578125,
          276.9200134277344,
          275.5899963378906,
          277.80999755859375,
          276.9700012207031,
          286.54998779296875,
          287.5199890136719,
          281.8500061035156,
          279.70001220703125,
          285.5799865722656,
          283.3999938964844,
          277.9200134277344,
          277.1199951171875,
          273.54998779296875,
          274.19000244140625,
          275.54998779296875,
          275.6700134277344,
          274.4800109863281,
          276.3999938964844,
          272.7900085449219,
          267.0899963378906,
          268.1099853515625,
          267.3999938964844,
          277,
          276.7799987792969,
          271.8699951171875,
          273.1600036621094,
          268.94000244140625,
          270.9700012207031,
          263.30999755859375,
          268.739990234375,
          267.57000732421875,
          256.8399963378906,
          251.08999633789062,
          251.63999938964844,
          245.63999938964844,
          251.36000061035156,
          261.1000061035156,
          267.4800109863281,
          272.8699951171875,
          274.5,
          278.010009765625,
          282.04998779296875,
          272.1400146484375,
          265,
          258.3299865722656,
          262.010009765625,
          267.0799865722656,
          266.6499938964844,
          266.489990234375,
          268.1000061035156,
          266.5799865722656,
          269.45001220703125,
          271.8699951171875,
          270.3900146484375,
          270.5,
          273.9700012207031,
          273.57000732421875,
          269.3900146484375,
          261.55999755859375,
          260.3299865722656,
          265.8599853515625,
          264.30999755859375,
          254.69000244140625,
          257.6199951171875,
          264.9100036621094,
          259,
          255.41000366210938,
          257.6400146484375,
          264.2799987792969,
          255.30999755859375,
          265.739990234375,
          264.8999938964844,
          273.8800048828125,
          268.3999938964844,
          273.75,
          279.2799987792969,
          284.010009765625,
          278.6199951171875,
          290.1099853515625,
          293.5400085449219,
          290.6300048828125,
          282.1400146484375,
          278.739990234375,
          283.0199890136719,
          290.82000732421875,
          288,
          294.5299987792969,
          298.6600036621094,
          308.9100036621094,
          306.260009765625,
          313.0899963378906,
          313.0199890136719,
          312.4599914550781,
          311.5400085449219,
          309.760009765625,
          302.82000732421875,
          307.82000732421875,
          306.17999267578125,
          302.239990234375,
          302.6499938964844,
          301.4700012207031,
          296.5199890136719,
          301.1300048828125,
          303.0400085449219,
          303.57000732421875,
          307.1000061035156,
          329.510009765625,
          325.0799865722656,
          322.5799865722656,
          318.3599853515625,
          315.0199890136719,
          320.0199890136719,
          319.0799865722656,
          305.9700012207031,
          306.5299987792969,
          302.54998779296875,
          305.260009765625,
          315.94000244140625,
          315.4599914550781,
          309.9599914550781,
          313.5899963378906,
          318.6099853515625,
          316.2300109863281,
          324.6300048828125,
          327.7900085449219,
          327.6600036621094,
          332.75,
          328.7300109863281,
          329.1300048828125,
          329.1499938964844,
          326.0400085449219,
          330.3500061035156,
          336.5799865722656,
          333.67999267578125,
          330.25,
          332.4599914550781,
          331.260009765625,
          336.7699890136719,
          336.75,
          331.0799865722656,
          336.510009765625,
          329.6600036621094,
          332.2900085449219,
          339.0299987792969,
          340.5899963378906,
          343.17999267578125,
          341.3699951171875,
          355.6400146484375,
          351.8900146484375,
          347.7099914550781,
          354.3900146484375,
          354.70001220703125,
          352.7799987792969,
          350.489990234375,
          345.6499938964844,
          350.4200134277344,
          353.1600036621094,
          352.0899963378906,
          347.6300048828125,
          344.4599914550781,
          341.1600036621094,
          336.95001220703125,
          341.6600036621094,
          346.2300109863281,
          351.19000244140625,
          369.7900085449219,
          372.4599914550781,
          367.80999755859375,
          373.2799987792969,
          358.32000732421875,
          356.29998779296875,
          351.95001220703125,
          351.239990234375,
          358.9200134277344,
          362.9700012207031,
          363.510009765625,
          361.6099853515625,
          361.1300048828125,
          359.9599914550781,
          362.6499938964844,
          363.17999267578125,
          366.55999755859375,
          358.45001220703125,
          355.45001220703125,
          355.1199951171875,
          359.3699951171875,
          363.3500061035156,
          365.510009765625,
          368.3900146484375,
          364.3800048828125,
          372.6300048828125,
          380.6600036621094,
          379.3800048828125,
          382.04998779296875,
          375.2799987792969,
          376.260009765625,
          382.17999267578125,
          377.57000732421875,
          378,
          378.69000244140625,
          376.510009765625,
          376.5299987792969,
          373.9200134277344,
          373.05999755859375,
          364.7200012207031,
          355.70001220703125,
          357.4800109863281,
          343.2099914550781,
          345.9599914550781,
          352.9599914550781,
          353.5799865722656,
          340.6499938964844,
          339.6099853515625,
          339.3900146484375,
          343.010009765625,
          326.2300109863281,
          332.9599914550781,
          333.6400146484375,
          329.2200012207031,
          330.04998779296875,
          325.45001220703125,
          323.7699890136719,
          324.5400085449219,
          328.5299987792969,
          324.760009765625,
          335.3399963378906,
          339.989990234375,
          340.7799987792969,
          341.8800048828125,
          324.6099853515625,
          328.69000244140625,
          315.80999755859375,
          312.2200012207031,
          316.9200134277344,
          323.57000732421875,
          329.9800109863281,
          328.0799865722656,
          331.6199951171875,
          335.8500061035156,
          341.1300048828125,
          338.6199951171875,
          335.3699951171875,
          327.6400146484375,
          327.739990234375,
          340.8900146484375,
          347.55999755859375,
          342.9599914550781,
          340.7699890136719,
          338.69000244140625,
          345.29998779296875,
          341.010009765625,
          337.25,
          341.05999755859375,
          333.1199951171875,
          338.0299987792969,
          324.4599914550781,
          310.6000061035156,
          310.3900146484375,
          306.8399963378906,
          317.8699951171875,
          322.80999755859375,
          330.55999755859375,
          329.82000732421875,
          329.75,
          334.489990234375,
          333.739990234375,
          341.6600036621094,
          334.8999938964844,
          333.7900085449219,
          325.45001220703125,
          334.20001220703125,
          330.45001220703125,
          335.239990234375,
          346.17999267578125,
          346.2200012207031,
          342.94000244140625,
          344.3599853515625,
          336.3500061035156,
          338.5400085449219,
          336.5299987792969,
          324.1700134277344,
          332.4599914550781,
          331.7900085449219,
          328.07000732421875,
          334.3699951171875,
          333.260009765625,
          326.4800109863281,
          331.8999938964844,
          318.1499938964844,
          319.5899963378906,
          316.55999755859375,
          303.1700134277344,
          308.7099914550781,
          300.1499938964844,
          294.6300048828125,
          294.6400146484375,
          301.7099914550781,
          313.260009765625,
          319,
          323,
          237.75999450683594,
          237.08999633789062,
          224.91000366210938,
          220.17999267578125,
          232,
          228.07000732421875,
          219.5500030517578,
          217.6999969482422,
          221,
          216.5399932861328,
          207.7100067138672,
          206.16000366210938,
          202.0800018310547,
          198.4499969482422,
          207.60000610351562,
          210.47999572753906,
          211.02999877929688,
          203.49000549316406,
          208.11000061035156,
          202.97000122070312,
          200.05999755859375,
          187.47000122070312,
          190.2899932861328,
          198.5,
          195.2100067138672,
          187.61000061035156,
          186.6300048828125,
          192.02999877929688,
          203.6300048828125,
          207.83999633789062,
          216.49000549316406,
          211.49000549316406,
          216.64999389648438,
          213.4600067138672,
          219.57000732421875,
          221.82000732421875,
          223.58999633789062,
          229.86000061035156,
          227.85000610351562,
          222.36000061035156,
          224.85000610351562,
          233.88999938964844,
          231.83999633789062,
          223.3000030517578,
          222.9499969482422,
          222.3300018310547,
          216.4600067138672,
          214.13999938964844,
          214.99000549316406,
          210.17999267578125,
          210.77000427246094,
          217.30999755859375,
          200.4199981689453,
          188.07000732421875,
          184.11000061035156,
          186.99000549316406,
          180.9499969482422,
          174.9499969482422,
          205.72999572753906,
          200.47000122070312,
          211.1300048828125,
          212.02999877929688,
          223.41000366210938,
          208.27999877929688,
          203.77000427246094,
          196.2100067138672,
          197.64999389648438,
          188.74000549316406,
          191.24000549316406,
          198.6199951171875,
          200.0399932861328,
          202.6199951171875,
          192.24000549316406,
          191.2899932861328,
          193.5399932861328,
          196.22999572753906,
          181.27999877929688,
          183.8300018310547,
          191.6300048828125,
          195.1300048828125,
          193.63999938964844,
          188.63999938964844,
          198.86000061035156,
          190.77999877929688,
          194.25,
          195.64999389648438,
          196.63999938964844,
          184,
          175.57000732421875,
          164.25999450683594,
          163.72999572753906,
          169.35000610351562,
          160.8699951171875,
          163.74000549316406,
          157.0500030517578,
          155.85000610351562,
          158.75,
          170.16000366210938,
          169.49000549316406,
          160.67999267578125,
          163.94000244140625,
          161.25,
          160.02999877929688,
          168.19000244140625,
          169.77000427246094,
          172.19000244140625,
          170.8800048828125,
          162.8800048828125,
          163.27000427246094,
          163.49000549316406,
          158.0500030517578,
          164.6999969482422,
          167.22999572753906,
          175.77999877929688,
          183.08999633789062,
          183.1699981689453,
          169.27000427246094,
          166.64999389648438,
          159.14999389648438,
          169.5800018310547,
          160.72000122070312,
          159.10000610351562,
          159.92999267578125,
          160.19000244140625,
          168.8000030517578,
          170.57000732421875
         ]
        },
        {
         "line": {
          "color": "darksalmon",
          "dash": "dashdot"
         },
         "name": "test",
         "type": "scatter",
         "x": [
          "2020-10-15T00:00:00",
          "2020-10-16T00:00:00",
          "2020-10-19T00:00:00",
          "2020-10-20T00:00:00",
          "2020-10-21T00:00:00",
          "2020-10-22T00:00:00",
          "2020-10-23T00:00:00",
          "2020-10-26T00:00:00",
          "2020-10-27T00:00:00",
          "2020-10-28T00:00:00",
          "2020-10-29T00:00:00",
          "2020-10-30T00:00:00",
          "2020-11-02T00:00:00",
          "2020-11-03T00:00:00",
          "2020-11-04T00:00:00",
          "2020-11-05T00:00:00",
          "2020-11-06T00:00:00",
          "2020-11-09T00:00:00",
          "2020-11-10T00:00:00",
          "2020-11-11T00:00:00",
          "2020-11-12T00:00:00",
          "2020-11-13T00:00:00",
          "2020-11-16T00:00:00",
          "2020-11-17T00:00:00",
          "2020-11-18T00:00:00",
          "2020-11-19T00:00:00",
          "2020-11-20T00:00:00",
          "2020-11-23T00:00:00",
          "2020-11-24T00:00:00",
          "2020-11-25T00:00:00",
          "2020-11-27T00:00:00",
          "2020-11-30T00:00:00",
          "2020-12-01T00:00:00",
          "2020-12-02T00:00:00",
          "2020-12-03T00:00:00",
          "2020-12-04T00:00:00",
          "2020-12-07T00:00:00",
          "2020-12-08T00:00:00",
          "2020-12-09T00:00:00",
          "2020-12-10T00:00:00",
          "2020-12-11T00:00:00",
          "2020-12-14T00:00:00",
          "2020-12-15T00:00:00",
          "2020-12-16T00:00:00",
          "2020-12-17T00:00:00",
          "2020-12-18T00:00:00",
          "2020-12-21T00:00:00",
          "2020-12-22T00:00:00",
          "2020-12-23T00:00:00",
          "2020-12-24T00:00:00",
          "2020-12-28T00:00:00",
          "2020-12-29T00:00:00",
          "2020-12-30T00:00:00",
          "2020-12-31T00:00:00",
          "2021-01-04T00:00:00",
          "2021-01-05T00:00:00",
          "2021-01-06T00:00:00",
          "2021-01-07T00:00:00",
          "2021-01-08T00:00:00",
          "2021-01-11T00:00:00",
          "2021-01-12T00:00:00",
          "2021-01-13T00:00:00",
          "2021-01-14T00:00:00",
          "2021-01-15T00:00:00",
          "2021-01-19T00:00:00",
          "2021-01-20T00:00:00",
          "2021-01-21T00:00:00",
          "2021-01-22T00:00:00",
          "2021-01-25T00:00:00",
          "2021-01-26T00:00:00",
          "2021-01-27T00:00:00",
          "2021-01-28T00:00:00",
          "2021-01-29T00:00:00",
          "2021-02-01T00:00:00",
          "2021-02-02T00:00:00",
          "2021-02-03T00:00:00",
          "2021-02-04T00:00:00",
          "2021-02-05T00:00:00",
          "2021-02-08T00:00:00",
          "2021-02-09T00:00:00",
          "2021-02-10T00:00:00",
          "2021-02-11T00:00:00",
          "2021-02-12T00:00:00",
          "2021-02-16T00:00:00",
          "2021-02-17T00:00:00",
          "2021-02-18T00:00:00",
          "2021-02-19T00:00:00",
          "2021-02-22T00:00:00",
          "2021-02-23T00:00:00",
          "2021-02-24T00:00:00",
          "2021-02-25T00:00:00",
          "2021-02-26T00:00:00",
          "2021-03-01T00:00:00",
          "2021-03-02T00:00:00",
          "2021-03-03T00:00:00",
          "2021-03-04T00:00:00",
          "2021-03-05T00:00:00",
          "2021-03-08T00:00:00",
          "2021-03-09T00:00:00",
          "2021-03-10T00:00:00",
          "2021-03-11T00:00:00",
          "2021-03-12T00:00:00",
          "2021-03-15T00:00:00",
          "2021-03-16T00:00:00",
          "2021-03-17T00:00:00",
          "2021-03-18T00:00:00",
          "2021-03-19T00:00:00",
          "2021-03-22T00:00:00",
          "2021-03-23T00:00:00",
          "2021-03-24T00:00:00",
          "2021-03-25T00:00:00",
          "2021-03-26T00:00:00",
          "2021-03-29T00:00:00",
          "2021-03-30T00:00:00",
          "2021-03-31T00:00:00",
          "2021-04-01T00:00:00",
          "2021-04-05T00:00:00",
          "2021-04-06T00:00:00",
          "2021-04-07T00:00:00",
          "2021-04-08T00:00:00",
          "2021-04-09T00:00:00",
          "2021-04-12T00:00:00",
          "2021-04-13T00:00:00",
          "2021-04-14T00:00:00",
          "2021-04-15T00:00:00",
          "2021-04-16T00:00:00",
          "2021-04-19T00:00:00",
          "2021-04-20T00:00:00",
          "2021-04-21T00:00:00",
          "2021-04-22T00:00:00",
          "2021-04-23T00:00:00",
          "2021-04-26T00:00:00",
          "2021-04-27T00:00:00",
          "2021-04-28T00:00:00",
          "2021-04-29T00:00:00",
          "2021-04-30T00:00:00",
          "2021-05-03T00:00:00",
          "2021-05-04T00:00:00",
          "2021-05-05T00:00:00",
          "2021-05-06T00:00:00",
          "2021-05-07T00:00:00",
          "2021-05-10T00:00:00",
          "2021-05-11T00:00:00",
          "2021-05-12T00:00:00",
          "2021-05-13T00:00:00",
          "2021-05-14T00:00:00",
          "2021-05-17T00:00:00",
          "2021-05-18T00:00:00",
          "2021-05-19T00:00:00",
          "2021-05-20T00:00:00",
          "2021-05-21T00:00:00",
          "2021-05-24T00:00:00",
          "2021-05-25T00:00:00",
          "2021-05-26T00:00:00",
          "2021-05-27T00:00:00",
          "2021-05-28T00:00:00",
          "2021-06-01T00:00:00",
          "2021-06-02T00:00:00",
          "2021-06-03T00:00:00",
          "2021-06-04T00:00:00",
          "2021-06-07T00:00:00",
          "2021-06-08T00:00:00",
          "2021-06-09T00:00:00",
          "2021-06-10T00:00:00",
          "2021-06-11T00:00:00",
          "2021-06-14T00:00:00",
          "2021-06-15T00:00:00",
          "2021-06-16T00:00:00",
          "2021-06-17T00:00:00",
          "2021-06-18T00:00:00",
          "2021-06-21T00:00:00",
          "2021-06-22T00:00:00",
          "2021-06-23T00:00:00",
          "2021-06-24T00:00:00",
          "2021-06-25T00:00:00",
          "2021-06-28T00:00:00",
          "2021-06-29T00:00:00",
          "2021-06-30T00:00:00",
          "2021-07-01T00:00:00",
          "2021-07-02T00:00:00",
          "2021-07-06T00:00:00",
          "2021-07-07T00:00:00",
          "2021-07-08T00:00:00",
          "2021-07-09T00:00:00",
          "2021-07-12T00:00:00",
          "2021-07-13T00:00:00",
          "2021-07-14T00:00:00",
          "2021-07-15T00:00:00",
          "2021-07-16T00:00:00",
          "2021-07-19T00:00:00",
          "2021-07-20T00:00:00",
          "2021-07-21T00:00:00",
          "2021-07-22T00:00:00",
          "2021-07-23T00:00:00",
          "2021-07-26T00:00:00",
          "2021-07-27T00:00:00",
          "2021-07-28T00:00:00",
          "2021-07-29T00:00:00",
          "2021-07-30T00:00:00",
          "2021-08-02T00:00:00",
          "2021-08-03T00:00:00",
          "2021-08-04T00:00:00",
          "2021-08-05T00:00:00",
          "2021-08-06T00:00:00",
          "2021-08-09T00:00:00",
          "2021-08-10T00:00:00",
          "2021-08-11T00:00:00",
          "2021-08-12T00:00:00",
          "2021-08-13T00:00:00",
          "2021-08-16T00:00:00",
          "2021-08-17T00:00:00",
          "2021-08-18T00:00:00",
          "2021-08-19T00:00:00",
          "2021-08-20T00:00:00",
          "2021-08-23T00:00:00",
          "2021-08-24T00:00:00",
          "2021-08-25T00:00:00",
          "2021-08-26T00:00:00",
          "2021-08-27T00:00:00",
          "2021-08-30T00:00:00",
          "2021-08-31T00:00:00",
          "2021-09-01T00:00:00",
          "2021-09-02T00:00:00",
          "2021-09-03T00:00:00",
          "2021-09-07T00:00:00",
          "2021-09-08T00:00:00",
          "2021-09-09T00:00:00",
          "2021-09-10T00:00:00",
          "2021-09-13T00:00:00",
          "2021-09-14T00:00:00",
          "2021-09-15T00:00:00",
          "2021-09-16T00:00:00",
          "2021-09-17T00:00:00",
          "2021-09-20T00:00:00",
          "2021-09-21T00:00:00",
          "2021-09-22T00:00:00",
          "2021-09-23T00:00:00",
          "2021-09-24T00:00:00",
          "2021-09-27T00:00:00",
          "2021-09-28T00:00:00",
          "2021-09-29T00:00:00",
          "2021-09-30T00:00:00",
          "2021-10-01T00:00:00",
          "2021-10-04T00:00:00",
          "2021-10-05T00:00:00",
          "2021-10-06T00:00:00",
          "2021-10-07T00:00:00",
          "2021-10-08T00:00:00",
          "2021-10-11T00:00:00",
          "2021-10-12T00:00:00",
          "2021-10-13T00:00:00",
          "2021-10-14T00:00:00",
          "2021-10-15T00:00:00",
          "2021-10-18T00:00:00",
          "2021-10-19T00:00:00",
          "2021-10-20T00:00:00",
          "2021-10-21T00:00:00",
          "2021-10-22T00:00:00",
          "2021-10-25T00:00:00",
          "2021-10-26T00:00:00",
          "2021-10-27T00:00:00",
          "2021-10-28T00:00:00",
          "2021-10-29T00:00:00",
          "2021-11-01T00:00:00",
          "2021-11-02T00:00:00",
          "2021-11-03T00:00:00",
          "2021-11-04T00:00:00",
          "2021-11-05T00:00:00",
          "2021-11-08T00:00:00",
          "2021-11-09T00:00:00",
          "2021-11-10T00:00:00",
          "2021-11-11T00:00:00",
          "2021-11-12T00:00:00",
          "2021-11-15T00:00:00",
          "2021-11-16T00:00:00",
          "2021-11-17T00:00:00",
          "2021-11-18T00:00:00",
          "2021-11-19T00:00:00",
          "2021-11-22T00:00:00",
          "2021-11-23T00:00:00",
          "2021-11-24T00:00:00",
          "2021-11-26T00:00:00",
          "2021-11-29T00:00:00",
          "2021-11-30T00:00:00",
          "2021-12-01T00:00:00",
          "2021-12-02T00:00:00",
          "2021-12-03T00:00:00",
          "2021-12-06T00:00:00",
          "2021-12-07T00:00:00",
          "2021-12-08T00:00:00",
          "2021-12-09T00:00:00",
          "2021-12-10T00:00:00",
          "2021-12-13T00:00:00",
          "2021-12-14T00:00:00",
          "2021-12-15T00:00:00",
          "2021-12-16T00:00:00",
          "2021-12-17T00:00:00",
          "2021-12-20T00:00:00",
          "2021-12-21T00:00:00",
          "2021-12-22T00:00:00",
          "2021-12-23T00:00:00",
          "2021-12-27T00:00:00",
          "2021-12-28T00:00:00",
          "2021-12-29T00:00:00",
          "2021-12-30T00:00:00",
          "2021-12-31T00:00:00",
          "2022-01-03T00:00:00",
          "2022-01-04T00:00:00",
          "2022-01-05T00:00:00",
          "2022-01-06T00:00:00",
          "2022-01-07T00:00:00",
          "2022-01-10T00:00:00",
          "2022-01-11T00:00:00",
          "2022-01-12T00:00:00",
          "2022-01-13T00:00:00",
          "2022-01-14T00:00:00",
          "2022-01-18T00:00:00",
          "2022-01-19T00:00:00",
          "2022-01-20T00:00:00",
          "2022-01-21T00:00:00",
          "2022-01-24T00:00:00",
          "2022-01-25T00:00:00",
          "2022-01-26T00:00:00",
          "2022-01-27T00:00:00",
          "2022-01-28T00:00:00",
          "2022-01-31T00:00:00",
          "2022-02-01T00:00:00",
          "2022-02-02T00:00:00",
          "2022-02-03T00:00:00",
          "2022-02-04T00:00:00",
          "2022-02-07T00:00:00",
          "2022-02-08T00:00:00",
          "2022-02-09T00:00:00",
          "2022-02-10T00:00:00",
          "2022-02-11T00:00:00",
          "2022-02-14T00:00:00",
          "2022-02-15T00:00:00",
          "2022-02-16T00:00:00",
          "2022-02-17T00:00:00",
          "2022-02-18T00:00:00",
          "2022-02-22T00:00:00",
          "2022-02-23T00:00:00",
          "2022-02-24T00:00:00",
          "2022-02-25T00:00:00",
          "2022-02-28T00:00:00",
          "2022-03-01T00:00:00",
          "2022-03-02T00:00:00",
          "2022-03-03T00:00:00",
          "2022-03-04T00:00:00",
          "2022-03-07T00:00:00",
          "2022-03-08T00:00:00",
          "2022-03-09T00:00:00",
          "2022-03-10T00:00:00",
          "2022-03-11T00:00:00",
          "2022-03-14T00:00:00",
          "2022-03-15T00:00:00",
          "2022-03-16T00:00:00",
          "2022-03-17T00:00:00",
          "2022-03-18T00:00:00",
          "2022-03-21T00:00:00",
          "2022-03-22T00:00:00",
          "2022-03-23T00:00:00",
          "2022-03-24T00:00:00",
          "2022-03-25T00:00:00",
          "2022-03-28T00:00:00",
          "2022-03-29T00:00:00",
          "2022-03-30T00:00:00",
          "2022-03-31T00:00:00",
          "2022-04-01T00:00:00",
          "2022-04-04T00:00:00",
          "2022-04-05T00:00:00",
          "2022-04-06T00:00:00",
          "2022-04-07T00:00:00",
          "2022-04-08T00:00:00",
          "2022-04-11T00:00:00",
          "2022-04-12T00:00:00",
          "2022-04-13T00:00:00",
          "2022-04-14T00:00:00",
          "2022-04-18T00:00:00",
          "2022-04-19T00:00:00",
          "2022-04-20T00:00:00",
          "2022-04-21T00:00:00",
          "2022-04-22T00:00:00",
          "2022-04-25T00:00:00",
          "2022-04-26T00:00:00",
          "2022-04-27T00:00:00",
          "2022-04-28T00:00:00",
          "2022-04-29T00:00:00",
          "2022-05-02T00:00:00",
          "2022-05-03T00:00:00",
          "2022-05-04T00:00:00",
          "2022-05-05T00:00:00",
          "2022-05-06T00:00:00",
          "2022-05-09T00:00:00",
          "2022-05-10T00:00:00",
          "2022-05-11T00:00:00",
          "2022-05-12T00:00:00",
          "2022-05-13T00:00:00",
          "2022-05-16T00:00:00",
          "2022-05-17T00:00:00",
          "2022-05-18T00:00:00",
          "2022-05-19T00:00:00",
          "2022-05-20T00:00:00",
          "2022-05-23T00:00:00",
          "2022-05-24T00:00:00",
          "2022-05-25T00:00:00",
          "2022-05-26T00:00:00",
          "2022-05-27T00:00:00",
          "2022-05-31T00:00:00",
          "2022-06-01T00:00:00",
          "2022-06-02T00:00:00",
          "2022-06-03T00:00:00",
          "2022-06-06T00:00:00",
          "2022-06-07T00:00:00",
          "2022-06-08T00:00:00",
          "2022-06-09T00:00:00",
          "2022-06-10T00:00:00",
          "2022-06-13T00:00:00",
          "2022-06-14T00:00:00",
          "2022-06-15T00:00:00",
          "2022-06-16T00:00:00",
          "2022-06-17T00:00:00",
          "2022-06-21T00:00:00",
          "2022-06-22T00:00:00",
          "2022-06-23T00:00:00",
          "2022-06-24T00:00:00",
          "2022-06-27T00:00:00",
          "2022-06-28T00:00:00",
          "2022-06-29T00:00:00",
          "2022-06-30T00:00:00",
          "2022-07-01T00:00:00",
          "2022-07-05T00:00:00",
          "2022-07-06T00:00:00",
          "2022-07-07T00:00:00",
          "2022-07-08T00:00:00",
          "2022-07-11T00:00:00",
          "2022-07-12T00:00:00",
          "2022-07-13T00:00:00",
          "2022-07-14T00:00:00",
          "2022-07-15T00:00:00",
          "2022-07-18T00:00:00",
          "2022-07-19T00:00:00",
          "2022-07-20T00:00:00",
          "2022-07-21T00:00:00",
          "2022-07-22T00:00:00",
          "2022-07-25T00:00:00",
          "2022-07-26T00:00:00",
          "2022-07-27T00:00:00",
          "2022-07-28T00:00:00",
          "2022-07-29T00:00:00",
          "2022-08-01T00:00:00",
          "2022-08-02T00:00:00",
          "2022-08-03T00:00:00",
          "2022-08-04T00:00:00"
         ],
         "y": [
          258.0086975097656,
          259.0658874511719,
          259.6712646484375,
          259.6590576171875,
          259.6587829589844,
          260.36993408203125,
          261.4255676269531,
          263.0550231933594,
          264.4305114746094,
          265.95672607421875,
          266.4605712890625,
          267.1505126953125,
          266.7532958984375,
          265.61871337890625,
          264.3499450683594,
          264.4869079589844,
          265.9326171875,
          268.01397705078125,
          269.41864013671875,
          269.91680908203125,
          270.0730285644531,
          269.9032897949219,
          269.661865234375,
          269.517822265625,
          269.1905517578125,
          268.58563232421875,
          267.9147033691406,
          267.04010009765625,
          266.0229187011719,
          265.5298767089844,
          265.3027038574219,
          265.4049377441406,
          265.6504211425781,
          266.5817565917969,
          267.9248962402344,
          269.0704345703125,
          269.883056640625,
          270.8054504394531,
          271.58135986328125,
          271.86590576171875,
          271.77984619140625,
          271.2396545410156,
          270.4983825683594,
          269.7677001953125,
          269.10107421875,
          268.4463806152344,
          267.97015380859375,
          267.4061584472656,
          266.4693298339844,
          265.43646240234375,
          264.36651611328125,
          263.96142578125,
          263.9744873046875,
          263.9396057128906,
          263.9677734375,
          263.76055908203125,
          263.55548095703125,
          262.8724365234375,
          262.2951965332031,
          261.74005126953125,
          260.55548095703125,
          258.7066650390625,
          256.6086730957031,
          254.11239624023438,
          251.9119873046875,
          250.664794921875,
          250.50340270996094,
          251.37965393066406,
          252.94935607910156,
          255.07020568847656,
          257.6422424316406,
          259.67572021484375,
          260.78466796875,
          260.8149719238281,
          260.4065246582031,
          260.0669250488281,
          259.7610168457031,
          259.4916076660156,
          259.3689270019531,
          259.2484130859375,
          259.32415771484375,
          259.6681823730469,
          260.059326171875,
          260.46240234375,
          261.065673828125,
          261.7212829589844,
          262.0976867675781,
          261.7779235839844,
          260.9741516113281,
          260.2742004394531,
          259.580322265625,
          258.3282470703125,
          257.0138244628906,
          256.2108154296875,
          255.39793395996094,
          254.41693115234375,
          253.54507446289062,
          253.2229461669922,
          252.6865234375,
          252.7347869873047,
          253.07806396484375,
          254.1617889404297,
          255.27310180664062,
          256.6763610839844,
          258.509765625,
          260.77978515625,
          262.8135070800781,
          265.29852294921875,
          268.0905456542969,
          270.6875305175781,
          272.4415588378906,
          273.33837890625,
          273.90924072265625,
          274.7231140136719,
          275.4406433105469,
          276.4700012207031,
          277.87396240234375,
          280.0587158203125,
          282.3913269042969,
          285.0888977050781,
          287.8028259277344,
          290.29559326171875,
          292.412109375,
          294.02862548828125,
          294.780029296875,
          295.26519775390625,
          295.43414306640625,
          295.1482849121094,
          294.63226318359375,
          293.93292236328125,
          292.85809326171875,
          291.92498779296875,
          291.2576904296875,
          290.83465576171875,
          290.8174743652344,
          292.4662170410156,
          294.7159423828125,
          297.03302001953125,
          298.9622802734375,
          300.3050231933594,
          301.5041809082031,
          302.45599365234375,
          302.3616027832031,
          301.6834411621094,
          300.43499755859375,
          299.0976257324219,
          298.4678039550781,
          298.2750244140625,
          298.0267028808594,
          298.0021057128906,
          298.4269714355469,
          298.941650390625,
          300.0103759765625,
          301.529541015625,
          303.2063293457031,
          305.1809387207031,
          306.93377685546875,
          308.4548645019531,
          309.72039794921875,
          310.53900146484375,
          311.296875,
          312.3429260253906,
          313.29791259765625,
          313.91973876953125,
          314.43475341796875,
          314.7648010253906,
          315.30316162109375,
          315.9183654785156,
          316.1824951171875,
          316.5613098144531,
          316.5419006347656,
          316.4559326171875,
          316.7492370605469,
          317.3397216796875,
          318.2317810058594,
          319.1279602050781,
          320.8568115234375,
          322.7088928222656,
          324.2508239746094,
          325.912353515625,
          327.5279846191406,
          328.8760070800781,
          329.8209533691406,
          330.1507263183594,
          330.38189697265625,
          330.69281005859375,
          330.9578552246094,
          330.9012756347656,
          330.4631042480469,
          329.6214904785156,
          328.3354797363281,
          327.1687316894531,
          326.4329833984375,
          326.31732177734375,
          327.7423095703125,
          330.1415710449219,
          332.67425537109375,
          335.4522705078125,
          337.2332763671875,
          338.17633056640625,
          338.26422119140625,
          337.78143310546875,
          337.4571533203125,
          337.4866943359375,
          337.75872802734375,
          338.0437316894531,
          338.29132080078125,
          338.4256896972656,
          338.6485900878906,
          338.9350891113281,
          339.4473876953125,
          339.5516662597656,
          339.23077392578125,
          338.6558532714844,
          338.22821044921875,
          338.1584167480469,
          338.4398498535156,
          339.0919494628906,
          339.6707458496094,
          340.68170166015625,
          342.35919189453125,
          344.2247619628906,
          346.23626708984375,
          347.7636413574219,
          348.95587158203125,
          350.21258544921875,
          351.1157531738281,
          351.7727966308594,
          352.2700500488281,
          352.4957275390625,
          352.54412841796875,
          352.3188171386719,
          351.89508056640625,
          350.86962890625,
          349.01513671875,
          346.9156799316406,
          343.93194580078125,
          340.8232421875,
          338.28594970703125,
          336.3085021972656,
          334.02227783203125,
          331.67901611328125,
          329.4569396972656,
          327.6953125,
          325.295166015625,
          323.1310119628906,
          321.2939758300781,
          319.5165710449219,
          317.9678955078125,
          316.3842468261719,
          314.79876708984375,
          313.3780517578125,
          312.41070556640625,
          311.5517578125,
          311.4956359863281,
          312.21307373046875,
          313.40228271484375,
          314.86773681640625,
          315.3149108886719,
          315.3898620605469,
          314.4085998535156,
          312.6434020996094,
          310.8168640136719,
          309.4894104003906,
          308.9588928222656,
          308.83416748046875,
          309.2006530761719,
          310.10516357421875,
          311.60174560546875,
          313.1894836425781,
          314.52044677734375,
          315.1167907714844,
          315.2345275878906,
          315.8670349121094,
          317.1618347167969,
          318.4743957519531,
          319.57806396484375,
          320.3459167480469,
          321.26531982421875,
          321.9279479980469,
          322.15850830078125,
          322.349609375,
          321.9971008300781,
          321.656982421875,
          320.489990234375,
          318.0579833984375,
          315.0280456542969,
          311.61572265625,
          308.90582275390625,
          307.1142578125,
          306.5042419433594,
          306.6159973144531,
          307.1695251464844,
          308.256103515625,
          309.5379333496094,
          311.34661865234375,
          312.9098815917969,
          314.1524963378906,
          314.583984375,
          315.04522705078125,
          315.23602294921875,
          315.5545654296875,
          316.6044006347656,
          318.01226806640625,
          319.3372497558594,
          320.6105651855469,
          321.254150390625,
          321.6136169433594,
          321.6380310058594,
          320.68487548828125,
          319.73822021484375,
          318.8012390136719,
          317.7080078125,
          316.99957275390625,
          316.4980773925781,
          315.74114990234375,
          315.2341003417969,
          314.0448303222656,
          312.6367492675781,
          310.9976806640625,
          308.4979248046875,
          306.01513671875,
          303.1673583984375,
          299.9647521972656,
          296.7777099609375,
          294.2703552246094,
          293.0821228027344,
          293.1476135253906,
          294.2392272949219,
          290.5035705566406,
          284.1297912597656,
          275.7458190917969,
          266.37969970703125,
          257.7816467285156,
          249.98196411132812,
          242.68496704101562,
          236.09649658203125,
          230.6146240234375,
          225.91513061523438,
          221.4701385498047,
          217.39610290527344,
          213.56842041015625,
          209.9244842529297,
          207.23385620117188,
          205.5079345703125,
          204.55044555664062,
          203.6637725830078,
          203.18862915039062,
          202.6702423095703,
          201.9775848388672,
          200.41079711914062,
          198.58511352539062,
          197.24102783203125,
          196.077392578125,
          194.6248321533203,
          193.02989196777344,
          191.7985076904297,
          191.62643432617188,
          192.40895080566406,
          194.30984497070312,
          196.4686279296875,
          198.98504638671875,
          201.34530639648438,
          203.8426513671875,
          206.3954620361328,
          208.92282104492188,
          211.66574096679688,
          214.2228240966797,
          216.13568115234375,
          217.67417907714844,
          219.44859313964844,
          221.1102752685547,
          222.04100036621094,
          222.43084716796875,
          222.4086456298828,
          221.74842834472656,
          220.58514404296875,
          219.23739624023438,
          217.55288696289062,
          215.81199645996094,
          214.5727081298828,
          212.64244079589844,
          209.62701416015625,
          205.87594604492188,
          202.09036254882812,
          198.14219665527344,
          193.97412109375,
          191.92819213867188,
          191.01174926757812,
          191.58152770996094,
          193.1138458251953,
          195.8944091796875,
          198.29347229003906,
          200.00698852539062,
          200.67623901367188,
          200.7303924560547,
          199.810302734375,
          198.50155639648438,
          197.5065155029297,
          196.8669891357422,
          196.66783142089844,
          196.093994140625,
          195.26812744140625,
          194.47950744628906,
          193.93792724609375,
          192.62460327148438,
          191.0835723876953,
          189.9967041015625,
          189.4928436279297,
          189.29998779296875,
          188.999267578125,
          189.31280517578125,
          189.4664306640625,
          189.7395782470703,
          190.15634155273438,
          190.69996643066406,
          190.47161865234375,
          189.23150634765625,
          186.7019805908203,
          183.48805236816406,
          180.4083709716797,
          177.07000732421875,
          173.98062133789062,
          170.8220977783203,
          167.75535583496094,
          165.1346435546875,
          163.70458984375,
          163.0860595703125,
          162.4657440185547,
          162.09881591796875,
          161.73956298828125,
          161.33042907714844,
          161.44143676757812,
          161.9770965576172,
          162.9084930419922,
          163.94808959960938,
          164.4733123779297,
          164.6619110107422,
          164.63330078125,
          164.116455078125,
          163.75259399414062,
          163.67079162597656,
          164.32904052734375,
          165.88975524902344,
          167.93157958984375,
          169.25,
          169.85337829589844,
          169.46995544433594,
          169.1531219482422,
          168.3214874267578,
          167.1191864013672,
          165.81236267089844,
          164.5413360595703,
          163.9327392578125
         ]
        }
       ],
       "layout": {
        "template": {
         "data": {
          "bar": [
           {
            "error_x": {
             "color": "#2a3f5f"
            },
            "error_y": {
             "color": "#2a3f5f"
            },
            "marker": {
             "line": {
              "color": "#E5ECF6",
              "width": 0.5
             },
             "pattern": {
              "fillmode": "overlay",
              "size": 10,
              "solidity": 0.2
             }
            },
            "type": "bar"
           }
          ],
          "barpolar": [
           {
            "marker": {
             "line": {
              "color": "#E5ECF6",
              "width": 0.5
             },
             "pattern": {
              "fillmode": "overlay",
              "size": 10,
              "solidity": 0.2
             }
            },
            "type": "barpolar"
           }
          ],
          "carpet": [
           {
            "aaxis": {
             "endlinecolor": "#2a3f5f",
             "gridcolor": "white",
             "linecolor": "white",
             "minorgridcolor": "white",
             "startlinecolor": "#2a3f5f"
            },
            "baxis": {
             "endlinecolor": "#2a3f5f",
             "gridcolor": "white",
             "linecolor": "white",
             "minorgridcolor": "white",
             "startlinecolor": "#2a3f5f"
            },
            "type": "carpet"
           }
          ],
          "choropleth": [
           {
            "colorbar": {
             "outlinewidth": 0,
             "ticks": ""
            },
            "type": "choropleth"
           }
          ],
          "contour": [
           {
            "colorbar": {
             "outlinewidth": 0,
             "ticks": ""
            },
            "colorscale": [
             [
              0,
              "#0d0887"
             ],
             [
              0.1111111111111111,
              "#46039f"
             ],
             [
              0.2222222222222222,
              "#7201a8"
             ],
             [
              0.3333333333333333,
              "#9c179e"
             ],
             [
              0.4444444444444444,
              "#bd3786"
             ],
             [
              0.5555555555555556,
              "#d8576b"
             ],
             [
              0.6666666666666666,
              "#ed7953"
             ],
             [
              0.7777777777777778,
              "#fb9f3a"
             ],
             [
              0.8888888888888888,
              "#fdca26"
             ],
             [
              1,
              "#f0f921"
             ]
            ],
            "type": "contour"
           }
          ],
          "contourcarpet": [
           {
            "colorbar": {
             "outlinewidth": 0,
             "ticks": ""
            },
            "type": "contourcarpet"
           }
          ],
          "heatmap": [
           {
            "colorbar": {
             "outlinewidth": 0,
             "ticks": ""
            },
            "colorscale": [
             [
              0,
              "#0d0887"
             ],
             [
              0.1111111111111111,
              "#46039f"
             ],
             [
              0.2222222222222222,
              "#7201a8"
             ],
             [
              0.3333333333333333,
              "#9c179e"
             ],
             [
              0.4444444444444444,
              "#bd3786"
             ],
             [
              0.5555555555555556,
              "#d8576b"
             ],
             [
              0.6666666666666666,
              "#ed7953"
             ],
             [
              0.7777777777777778,
              "#fb9f3a"
             ],
             [
              0.8888888888888888,
              "#fdca26"
             ],
             [
              1,
              "#f0f921"
             ]
            ],
            "type": "heatmap"
           }
          ],
          "heatmapgl": [
           {
            "colorbar": {
             "outlinewidth": 0,
             "ticks": ""
            },
            "colorscale": [
             [
              0,
              "#0d0887"
             ],
             [
              0.1111111111111111,
              "#46039f"
             ],
             [
              0.2222222222222222,
              "#7201a8"
             ],
             [
              0.3333333333333333,
              "#9c179e"
             ],
             [
              0.4444444444444444,
              "#bd3786"
             ],
             [
              0.5555555555555556,
              "#d8576b"
             ],
             [
              0.6666666666666666,
              "#ed7953"
             ],
             [
              0.7777777777777778,
              "#fb9f3a"
             ],
             [
              0.8888888888888888,
              "#fdca26"
             ],
             [
              1,
              "#f0f921"
             ]
            ],
            "type": "heatmapgl"
           }
          ],
          "histogram": [
           {
            "marker": {
             "pattern": {
              "fillmode": "overlay",
              "size": 10,
              "solidity": 0.2
             }
            },
            "type": "histogram"
           }
          ],
          "histogram2d": [
           {
            "colorbar": {
             "outlinewidth": 0,
             "ticks": ""
            },
            "colorscale": [
             [
              0,
              "#0d0887"
             ],
             [
              0.1111111111111111,
              "#46039f"
             ],
             [
              0.2222222222222222,
              "#7201a8"
             ],
             [
              0.3333333333333333,
              "#9c179e"
             ],
             [
              0.4444444444444444,
              "#bd3786"
             ],
             [
              0.5555555555555556,
              "#d8576b"
             ],
             [
              0.6666666666666666,
              "#ed7953"
             ],
             [
              0.7777777777777778,
              "#fb9f3a"
             ],
             [
              0.8888888888888888,
              "#fdca26"
             ],
             [
              1,
              "#f0f921"
             ]
            ],
            "type": "histogram2d"
           }
          ],
          "histogram2dcontour": [
           {
            "colorbar": {
             "outlinewidth": 0,
             "ticks": ""
            },
            "colorscale": [
             [
              0,
              "#0d0887"
             ],
             [
              0.1111111111111111,
              "#46039f"
             ],
             [
              0.2222222222222222,
              "#7201a8"
             ],
             [
              0.3333333333333333,
              "#9c179e"
             ],
             [
              0.4444444444444444,
              "#bd3786"
             ],
             [
              0.5555555555555556,
              "#d8576b"
             ],
             [
              0.6666666666666666,
              "#ed7953"
             ],
             [
              0.7777777777777778,
              "#fb9f3a"
             ],
             [
              0.8888888888888888,
              "#fdca26"
             ],
             [
              1,
              "#f0f921"
             ]
            ],
            "type": "histogram2dcontour"
           }
          ],
          "mesh3d": [
           {
            "colorbar": {
             "outlinewidth": 0,
             "ticks": ""
            },
            "type": "mesh3d"
           }
          ],
          "parcoords": [
           {
            "line": {
             "colorbar": {
              "outlinewidth": 0,
              "ticks": ""
             }
            },
            "type": "parcoords"
           }
          ],
          "pie": [
           {
            "automargin": true,
            "type": "pie"
           }
          ],
          "scatter": [
           {
            "marker": {
             "colorbar": {
              "outlinewidth": 0,
              "ticks": ""
             }
            },
            "type": "scatter"
           }
          ],
          "scatter3d": [
           {
            "line": {
             "colorbar": {
              "outlinewidth": 0,
              "ticks": ""
             }
            },
            "marker": {
             "colorbar": {
              "outlinewidth": 0,
              "ticks": ""
             }
            },
            "type": "scatter3d"
           }
          ],
          "scattercarpet": [
           {
            "marker": {
             "colorbar": {
              "outlinewidth": 0,
              "ticks": ""
             }
            },
            "type": "scattercarpet"
           }
          ],
          "scattergeo": [
           {
            "marker": {
             "colorbar": {
              "outlinewidth": 0,
              "ticks": ""
             }
            },
            "type": "scattergeo"
           }
          ],
          "scattergl": [
           {
            "marker": {
             "colorbar": {
              "outlinewidth": 0,
              "ticks": ""
             }
            },
            "type": "scattergl"
           }
          ],
          "scattermapbox": [
           {
            "marker": {
             "colorbar": {
              "outlinewidth": 0,
              "ticks": ""
             }
            },
            "type": "scattermapbox"
           }
          ],
          "scatterpolar": [
           {
            "marker": {
             "colorbar": {
              "outlinewidth": 0,
              "ticks": ""
             }
            },
            "type": "scatterpolar"
           }
          ],
          "scatterpolargl": [
           {
            "marker": {
             "colorbar": {
              "outlinewidth": 0,
              "ticks": ""
             }
            },
            "type": "scatterpolargl"
           }
          ],
          "scatterternary": [
           {
            "marker": {
             "colorbar": {
              "outlinewidth": 0,
              "ticks": ""
             }
            },
            "type": "scatterternary"
           }
          ],
          "surface": [
           {
            "colorbar": {
             "outlinewidth": 0,
             "ticks": ""
            },
            "colorscale": [
             [
              0,
              "#0d0887"
             ],
             [
              0.1111111111111111,
              "#46039f"
             ],
             [
              0.2222222222222222,
              "#7201a8"
             ],
             [
              0.3333333333333333,
              "#9c179e"
             ],
             [
              0.4444444444444444,
              "#bd3786"
             ],
             [
              0.5555555555555556,
              "#d8576b"
             ],
             [
              0.6666666666666666,
              "#ed7953"
             ],
             [
              0.7777777777777778,
              "#fb9f3a"
             ],
             [
              0.8888888888888888,
              "#fdca26"
             ],
             [
              1,
              "#f0f921"
             ]
            ],
            "type": "surface"
           }
          ],
          "table": [
           {
            "cells": {
             "fill": {
              "color": "#EBF0F8"
             },
             "line": {
              "color": "white"
             }
            },
            "header": {
             "fill": {
              "color": "#C8D4E3"
             },
             "line": {
              "color": "white"
             }
            },
            "type": "table"
           }
          ]
         },
         "layout": {
          "annotationdefaults": {
           "arrowcolor": "#2a3f5f",
           "arrowhead": 0,
           "arrowwidth": 1
          },
          "autotypenumbers": "strict",
          "coloraxis": {
           "colorbar": {
            "outlinewidth": 0,
            "ticks": ""
           }
          },
          "colorscale": {
           "diverging": [
            [
             0,
             "#8e0152"
            ],
            [
             0.1,
             "#c51b7d"
            ],
            [
             0.2,
             "#de77ae"
            ],
            [
             0.3,
             "#f1b6da"
            ],
            [
             0.4,
             "#fde0ef"
            ],
            [
             0.5,
             "#f7f7f7"
            ],
            [
             0.6,
             "#e6f5d0"
            ],
            [
             0.7,
             "#b8e186"
            ],
            [
             0.8,
             "#7fbc41"
            ],
            [
             0.9,
             "#4d9221"
            ],
            [
             1,
             "#276419"
            ]
           ],
           "sequential": [
            [
             0,
             "#0d0887"
            ],
            [
             0.1111111111111111,
             "#46039f"
            ],
            [
             0.2222222222222222,
             "#7201a8"
            ],
            [
             0.3333333333333333,
             "#9c179e"
            ],
            [
             0.4444444444444444,
             "#bd3786"
            ],
            [
             0.5555555555555556,
             "#d8576b"
            ],
            [
             0.6666666666666666,
             "#ed7953"
            ],
            [
             0.7777777777777778,
             "#fb9f3a"
            ],
            [
             0.8888888888888888,
             "#fdca26"
            ],
            [
             1,
             "#f0f921"
            ]
           ],
           "sequentialminus": [
            [
             0,
             "#0d0887"
            ],
            [
             0.1111111111111111,
             "#46039f"
            ],
            [
             0.2222222222222222,
             "#7201a8"
            ],
            [
             0.3333333333333333,
             "#9c179e"
            ],
            [
             0.4444444444444444,
             "#bd3786"
            ],
            [
             0.5555555555555556,
             "#d8576b"
            ],
            [
             0.6666666666666666,
             "#ed7953"
            ],
            [
             0.7777777777777778,
             "#fb9f3a"
            ],
            [
             0.8888888888888888,
             "#fdca26"
            ],
            [
             1,
             "#f0f921"
            ]
           ]
          },
          "colorway": [
           "#636efa",
           "#EF553B",
           "#00cc96",
           "#ab63fa",
           "#FFA15A",
           "#19d3f3",
           "#FF6692",
           "#B6E880",
           "#FF97FF",
           "#FECB52"
          ],
          "font": {
           "color": "#2a3f5f"
          },
          "geo": {
           "bgcolor": "white",
           "lakecolor": "white",
           "landcolor": "#E5ECF6",
           "showlakes": true,
           "showland": true,
           "subunitcolor": "white"
          },
          "hoverlabel": {
           "align": "left"
          },
          "hovermode": "closest",
          "mapbox": {
           "style": "light"
          },
          "paper_bgcolor": "white",
          "plot_bgcolor": "#E5ECF6",
          "polar": {
           "angularaxis": {
            "gridcolor": "white",
            "linecolor": "white",
            "ticks": ""
           },
           "bgcolor": "#E5ECF6",
           "radialaxis": {
            "gridcolor": "white",
            "linecolor": "white",
            "ticks": ""
           }
          },
          "scene": {
           "xaxis": {
            "backgroundcolor": "#E5ECF6",
            "gridcolor": "white",
            "gridwidth": 2,
            "linecolor": "white",
            "showbackground": true,
            "ticks": "",
            "zerolinecolor": "white"
           },
           "yaxis": {
            "backgroundcolor": "#E5ECF6",
            "gridcolor": "white",
            "gridwidth": 2,
            "linecolor": "white",
            "showbackground": true,
            "ticks": "",
            "zerolinecolor": "white"
           },
           "zaxis": {
            "backgroundcolor": "#E5ECF6",
            "gridcolor": "white",
            "gridwidth": 2,
            "linecolor": "white",
            "showbackground": true,
            "ticks": "",
            "zerolinecolor": "white"
           }
          },
          "shapedefaults": {
           "line": {
            "color": "#2a3f5f"
           }
          },
          "ternary": {
           "aaxis": {
            "gridcolor": "white",
            "linecolor": "white",
            "ticks": ""
           },
           "baxis": {
            "gridcolor": "white",
            "linecolor": "white",
            "ticks": ""
           },
           "bgcolor": "#E5ECF6",
           "caxis": {
            "gridcolor": "white",
            "linecolor": "white",
            "ticks": ""
           }
          },
          "title": {
           "x": 0.05
          },
          "xaxis": {
           "automargin": true,
           "gridcolor": "white",
           "linecolor": "white",
           "ticks": "",
           "title": {
            "standoff": 15
           },
           "zerolinecolor": "white",
           "zerolinewidth": 2
          },
          "yaxis": {
           "automargin": true,
           "gridcolor": "white",
           "linecolor": "white",
           "ticks": "",
           "title": {
            "standoff": 15
           },
           "zerolinecolor": "white",
           "zerolinewidth": 2
          }
         }
        }
       }
      },
      "text/html": [
       "<div>                            <div id=\"96773dff-dac5-4038-84d0-188276a73c53\" class=\"plotly-graph-div\" style=\"height:525px; width:100%;\"></div>            <script type=\"text/javascript\">                require([\"plotly\"], function(Plotly) {                    window.PLOTLYENV=window.PLOTLYENV || {};                                    if (document.getElementById(\"96773dff-dac5-4038-84d0-188276a73c53\")) {                    Plotly.newPlot(                        \"96773dff-dac5-4038-84d0-188276a73c53\",                        [{\"line\":{\"color\":\"gold\"},\"name\":\"actual\",\"x\":[\"2020-10-15T00:00:00\",\"2020-10-16T00:00:00\",\"2020-10-19T00:00:00\",\"2020-10-20T00:00:00\",\"2020-10-21T00:00:00\",\"2020-10-22T00:00:00\",\"2020-10-23T00:00:00\",\"2020-10-26T00:00:00\",\"2020-10-27T00:00:00\",\"2020-10-28T00:00:00\",\"2020-10-29T00:00:00\",\"2020-10-30T00:00:00\",\"2020-11-02T00:00:00\",\"2020-11-03T00:00:00\",\"2020-11-04T00:00:00\",\"2020-11-05T00:00:00\",\"2020-11-06T00:00:00\",\"2020-11-09T00:00:00\",\"2020-11-10T00:00:00\",\"2020-11-11T00:00:00\",\"2020-11-12T00:00:00\",\"2020-11-13T00:00:00\",\"2020-11-16T00:00:00\",\"2020-11-17T00:00:00\",\"2020-11-18T00:00:00\",\"2020-11-19T00:00:00\",\"2020-11-20T00:00:00\",\"2020-11-23T00:00:00\",\"2020-11-24T00:00:00\",\"2020-11-25T00:00:00\",\"2020-11-27T00:00:00\",\"2020-11-30T00:00:00\",\"2020-12-01T00:00:00\",\"2020-12-02T00:00:00\",\"2020-12-03T00:00:00\",\"2020-12-04T00:00:00\",\"2020-12-07T00:00:00\",\"2020-12-08T00:00:00\",\"2020-12-09T00:00:00\",\"2020-12-10T00:00:00\",\"2020-12-11T00:00:00\",\"2020-12-14T00:00:00\",\"2020-12-15T00:00:00\",\"2020-12-16T00:00:00\",\"2020-12-17T00:00:00\",\"2020-12-18T00:00:00\",\"2020-12-21T00:00:00\",\"2020-12-22T00:00:00\",\"2020-12-23T00:00:00\",\"2020-12-24T00:00:00\",\"2020-12-28T00:00:00\",\"2020-12-29T00:00:00\",\"2020-12-30T00:00:00\",\"2020-12-31T00:00:00\",\"2021-01-04T00:00:00\",\"2021-01-05T00:00:00\",\"2021-01-06T00:00:00\",\"2021-01-07T00:00:00\",\"2021-01-08T00:00:00\",\"2021-01-11T00:00:00\",\"2021-01-12T00:00:00\",\"2021-01-13T00:00:00\",\"2021-01-14T00:00:00\",\"2021-01-15T00:00:00\",\"2021-01-19T00:00:00\",\"2021-01-20T00:00:00\",\"2021-01-21T00:00:00\",\"2021-01-22T00:00:00\",\"2021-01-25T00:00:00\",\"2021-01-26T00:00:00\",\"2021-01-27T00:00:00\",\"2021-01-28T00:00:00\",\"2021-01-29T00:00:00\",\"2021-02-01T00:00:00\",\"2021-02-02T00:00:00\",\"2021-02-03T00:00:00\",\"2021-02-04T00:00:00\",\"2021-02-05T00:00:00\",\"2021-02-08T00:00:00\",\"2021-02-09T00:00:00\",\"2021-02-10T00:00:00\",\"2021-02-11T00:00:00\",\"2021-02-12T00:00:00\",\"2021-02-16T00:00:00\",\"2021-02-17T00:00:00\",\"2021-02-18T00:00:00\",\"2021-02-19T00:00:00\",\"2021-02-22T00:00:00\",\"2021-02-23T00:00:00\",\"2021-02-24T00:00:00\",\"2021-02-25T00:00:00\",\"2021-02-26T00:00:00\",\"2021-03-01T00:00:00\",\"2021-03-02T00:00:00\",\"2021-03-03T00:00:00\",\"2021-03-04T00:00:00\",\"2021-03-05T00:00:00\",\"2021-03-08T00:00:00\",\"2021-03-09T00:00:00\",\"2021-03-10T00:00:00\",\"2021-03-11T00:00:00\",\"2021-03-12T00:00:00\",\"2021-03-15T00:00:00\",\"2021-03-16T00:00:00\",\"2021-03-17T00:00:00\",\"2021-03-18T00:00:00\",\"2021-03-19T00:00:00\",\"2021-03-22T00:00:00\",\"2021-03-23T00:00:00\",\"2021-03-24T00:00:00\",\"2021-03-25T00:00:00\",\"2021-03-26T00:00:00\",\"2021-03-29T00:00:00\",\"2021-03-30T00:00:00\",\"2021-03-31T00:00:00\",\"2021-04-01T00:00:00\",\"2021-04-05T00:00:00\",\"2021-04-06T00:00:00\",\"2021-04-07T00:00:00\",\"2021-04-08T00:00:00\",\"2021-04-09T00:00:00\",\"2021-04-12T00:00:00\",\"2021-04-13T00:00:00\",\"2021-04-14T00:00:00\",\"2021-04-15T00:00:00\",\"2021-04-16T00:00:00\",\"2021-04-19T00:00:00\",\"2021-04-20T00:00:00\",\"2021-04-21T00:00:00\",\"2021-04-22T00:00:00\",\"2021-04-23T00:00:00\",\"2021-04-26T00:00:00\",\"2021-04-27T00:00:00\",\"2021-04-28T00:00:00\",\"2021-04-29T00:00:00\",\"2021-04-30T00:00:00\",\"2021-05-03T00:00:00\",\"2021-05-04T00:00:00\",\"2021-05-05T00:00:00\",\"2021-05-06T00:00:00\",\"2021-05-07T00:00:00\",\"2021-05-10T00:00:00\",\"2021-05-11T00:00:00\",\"2021-05-12T00:00:00\",\"2021-05-13T00:00:00\",\"2021-05-14T00:00:00\",\"2021-05-17T00:00:00\",\"2021-05-18T00:00:00\",\"2021-05-19T00:00:00\",\"2021-05-20T00:00:00\",\"2021-05-21T00:00:00\",\"2021-05-24T00:00:00\",\"2021-05-25T00:00:00\",\"2021-05-26T00:00:00\",\"2021-05-27T00:00:00\",\"2021-05-28T00:00:00\",\"2021-06-01T00:00:00\",\"2021-06-02T00:00:00\",\"2021-06-03T00:00:00\",\"2021-06-04T00:00:00\",\"2021-06-07T00:00:00\",\"2021-06-08T00:00:00\",\"2021-06-09T00:00:00\",\"2021-06-10T00:00:00\",\"2021-06-11T00:00:00\",\"2021-06-14T00:00:00\",\"2021-06-15T00:00:00\",\"2021-06-16T00:00:00\",\"2021-06-17T00:00:00\",\"2021-06-18T00:00:00\",\"2021-06-21T00:00:00\",\"2021-06-22T00:00:00\",\"2021-06-23T00:00:00\",\"2021-06-24T00:00:00\",\"2021-06-25T00:00:00\",\"2021-06-28T00:00:00\",\"2021-06-29T00:00:00\",\"2021-06-30T00:00:00\",\"2021-07-01T00:00:00\",\"2021-07-02T00:00:00\",\"2021-07-06T00:00:00\",\"2021-07-07T00:00:00\",\"2021-07-08T00:00:00\",\"2021-07-09T00:00:00\",\"2021-07-12T00:00:00\",\"2021-07-13T00:00:00\",\"2021-07-14T00:00:00\",\"2021-07-15T00:00:00\",\"2021-07-16T00:00:00\",\"2021-07-19T00:00:00\",\"2021-07-20T00:00:00\",\"2021-07-21T00:00:00\",\"2021-07-22T00:00:00\",\"2021-07-23T00:00:00\",\"2021-07-26T00:00:00\",\"2021-07-27T00:00:00\",\"2021-07-28T00:00:00\",\"2021-07-29T00:00:00\",\"2021-07-30T00:00:00\",\"2021-08-02T00:00:00\",\"2021-08-03T00:00:00\",\"2021-08-04T00:00:00\",\"2021-08-05T00:00:00\",\"2021-08-06T00:00:00\",\"2021-08-09T00:00:00\",\"2021-08-10T00:00:00\",\"2021-08-11T00:00:00\",\"2021-08-12T00:00:00\",\"2021-08-13T00:00:00\",\"2021-08-16T00:00:00\",\"2021-08-17T00:00:00\",\"2021-08-18T00:00:00\",\"2021-08-19T00:00:00\",\"2021-08-20T00:00:00\",\"2021-08-23T00:00:00\",\"2021-08-24T00:00:00\",\"2021-08-25T00:00:00\",\"2021-08-26T00:00:00\",\"2021-08-27T00:00:00\",\"2021-08-30T00:00:00\",\"2021-08-31T00:00:00\",\"2021-09-01T00:00:00\",\"2021-09-02T00:00:00\",\"2021-09-03T00:00:00\",\"2021-09-07T00:00:00\",\"2021-09-08T00:00:00\",\"2021-09-09T00:00:00\",\"2021-09-10T00:00:00\",\"2021-09-13T00:00:00\",\"2021-09-14T00:00:00\",\"2021-09-15T00:00:00\",\"2021-09-16T00:00:00\",\"2021-09-17T00:00:00\",\"2021-09-20T00:00:00\",\"2021-09-21T00:00:00\",\"2021-09-22T00:00:00\",\"2021-09-23T00:00:00\",\"2021-09-24T00:00:00\",\"2021-09-27T00:00:00\",\"2021-09-28T00:00:00\",\"2021-09-29T00:00:00\",\"2021-09-30T00:00:00\",\"2021-10-01T00:00:00\",\"2021-10-04T00:00:00\",\"2021-10-05T00:00:00\",\"2021-10-06T00:00:00\",\"2021-10-07T00:00:00\",\"2021-10-08T00:00:00\",\"2021-10-11T00:00:00\",\"2021-10-12T00:00:00\",\"2021-10-13T00:00:00\",\"2021-10-14T00:00:00\",\"2021-10-15T00:00:00\",\"2021-10-18T00:00:00\",\"2021-10-19T00:00:00\",\"2021-10-20T00:00:00\",\"2021-10-21T00:00:00\",\"2021-10-22T00:00:00\",\"2021-10-25T00:00:00\",\"2021-10-26T00:00:00\",\"2021-10-27T00:00:00\",\"2021-10-28T00:00:00\",\"2021-10-29T00:00:00\",\"2021-11-01T00:00:00\",\"2021-11-02T00:00:00\",\"2021-11-03T00:00:00\",\"2021-11-04T00:00:00\",\"2021-11-05T00:00:00\",\"2021-11-08T00:00:00\",\"2021-11-09T00:00:00\",\"2021-11-10T00:00:00\",\"2021-11-11T00:00:00\",\"2021-11-12T00:00:00\",\"2021-11-15T00:00:00\",\"2021-11-16T00:00:00\",\"2021-11-17T00:00:00\",\"2021-11-18T00:00:00\",\"2021-11-19T00:00:00\",\"2021-11-22T00:00:00\",\"2021-11-23T00:00:00\",\"2021-11-24T00:00:00\",\"2021-11-26T00:00:00\",\"2021-11-29T00:00:00\",\"2021-11-30T00:00:00\",\"2021-12-01T00:00:00\",\"2021-12-02T00:00:00\",\"2021-12-03T00:00:00\",\"2021-12-06T00:00:00\",\"2021-12-07T00:00:00\",\"2021-12-08T00:00:00\",\"2021-12-09T00:00:00\",\"2021-12-10T00:00:00\",\"2021-12-13T00:00:00\",\"2021-12-14T00:00:00\",\"2021-12-15T00:00:00\",\"2021-12-16T00:00:00\",\"2021-12-17T00:00:00\",\"2021-12-20T00:00:00\",\"2021-12-21T00:00:00\",\"2021-12-22T00:00:00\",\"2021-12-23T00:00:00\",\"2021-12-27T00:00:00\",\"2021-12-28T00:00:00\",\"2021-12-29T00:00:00\",\"2021-12-30T00:00:00\",\"2021-12-31T00:00:00\",\"2022-01-03T00:00:00\",\"2022-01-04T00:00:00\",\"2022-01-05T00:00:00\",\"2022-01-06T00:00:00\",\"2022-01-07T00:00:00\",\"2022-01-10T00:00:00\",\"2022-01-11T00:00:00\",\"2022-01-12T00:00:00\",\"2022-01-13T00:00:00\",\"2022-01-14T00:00:00\",\"2022-01-18T00:00:00\",\"2022-01-19T00:00:00\",\"2022-01-20T00:00:00\",\"2022-01-21T00:00:00\",\"2022-01-24T00:00:00\",\"2022-01-25T00:00:00\",\"2022-01-26T00:00:00\",\"2022-01-27T00:00:00\",\"2022-01-28T00:00:00\",\"2022-01-31T00:00:00\",\"2022-02-01T00:00:00\",\"2022-02-02T00:00:00\",\"2022-02-03T00:00:00\",\"2022-02-04T00:00:00\",\"2022-02-07T00:00:00\",\"2022-02-08T00:00:00\",\"2022-02-09T00:00:00\",\"2022-02-10T00:00:00\",\"2022-02-11T00:00:00\",\"2022-02-14T00:00:00\",\"2022-02-15T00:00:00\",\"2022-02-16T00:00:00\",\"2022-02-17T00:00:00\",\"2022-02-18T00:00:00\",\"2022-02-22T00:00:00\",\"2022-02-23T00:00:00\",\"2022-02-24T00:00:00\",\"2022-02-25T00:00:00\",\"2022-02-28T00:00:00\",\"2022-03-01T00:00:00\",\"2022-03-02T00:00:00\",\"2022-03-03T00:00:00\",\"2022-03-04T00:00:00\",\"2022-03-07T00:00:00\",\"2022-03-08T00:00:00\",\"2022-03-09T00:00:00\",\"2022-03-10T00:00:00\",\"2022-03-11T00:00:00\",\"2022-03-14T00:00:00\",\"2022-03-15T00:00:00\",\"2022-03-16T00:00:00\",\"2022-03-17T00:00:00\",\"2022-03-18T00:00:00\",\"2022-03-21T00:00:00\",\"2022-03-22T00:00:00\",\"2022-03-23T00:00:00\",\"2022-03-24T00:00:00\",\"2022-03-25T00:00:00\",\"2022-03-28T00:00:00\",\"2022-03-29T00:00:00\",\"2022-03-30T00:00:00\",\"2022-03-31T00:00:00\",\"2022-04-01T00:00:00\",\"2022-04-04T00:00:00\",\"2022-04-05T00:00:00\",\"2022-04-06T00:00:00\",\"2022-04-07T00:00:00\",\"2022-04-08T00:00:00\",\"2022-04-11T00:00:00\",\"2022-04-12T00:00:00\",\"2022-04-13T00:00:00\",\"2022-04-14T00:00:00\",\"2022-04-18T00:00:00\",\"2022-04-19T00:00:00\",\"2022-04-20T00:00:00\",\"2022-04-21T00:00:00\",\"2022-04-22T00:00:00\",\"2022-04-25T00:00:00\",\"2022-04-26T00:00:00\",\"2022-04-27T00:00:00\",\"2022-04-28T00:00:00\",\"2022-04-29T00:00:00\",\"2022-05-02T00:00:00\",\"2022-05-03T00:00:00\",\"2022-05-04T00:00:00\",\"2022-05-05T00:00:00\",\"2022-05-06T00:00:00\",\"2022-05-09T00:00:00\",\"2022-05-10T00:00:00\",\"2022-05-11T00:00:00\",\"2022-05-12T00:00:00\",\"2022-05-13T00:00:00\",\"2022-05-16T00:00:00\",\"2022-05-17T00:00:00\",\"2022-05-18T00:00:00\",\"2022-05-19T00:00:00\",\"2022-05-20T00:00:00\",\"2022-05-23T00:00:00\",\"2022-05-24T00:00:00\",\"2022-05-25T00:00:00\",\"2022-05-26T00:00:00\",\"2022-05-27T00:00:00\",\"2022-05-31T00:00:00\",\"2022-06-01T00:00:00\",\"2022-06-02T00:00:00\",\"2022-06-03T00:00:00\",\"2022-06-06T00:00:00\",\"2022-06-07T00:00:00\",\"2022-06-08T00:00:00\",\"2022-06-09T00:00:00\",\"2022-06-10T00:00:00\",\"2022-06-13T00:00:00\",\"2022-06-14T00:00:00\",\"2022-06-15T00:00:00\",\"2022-06-16T00:00:00\",\"2022-06-17T00:00:00\",\"2022-06-21T00:00:00\",\"2022-06-22T00:00:00\",\"2022-06-23T00:00:00\",\"2022-06-24T00:00:00\",\"2022-06-27T00:00:00\",\"2022-06-28T00:00:00\",\"2022-06-29T00:00:00\",\"2022-06-30T00:00:00\",\"2022-07-01T00:00:00\",\"2022-07-05T00:00:00\",\"2022-07-06T00:00:00\",\"2022-07-07T00:00:00\",\"2022-07-08T00:00:00\",\"2022-07-11T00:00:00\",\"2022-07-12T00:00:00\",\"2022-07-13T00:00:00\",\"2022-07-14T00:00:00\",\"2022-07-15T00:00:00\",\"2022-07-18T00:00:00\",\"2022-07-19T00:00:00\",\"2022-07-20T00:00:00\",\"2022-07-21T00:00:00\",\"2022-07-22T00:00:00\",\"2022-07-25T00:00:00\",\"2022-07-26T00:00:00\",\"2022-07-27T00:00:00\",\"2022-07-28T00:00:00\",\"2022-07-29T00:00:00\",\"2022-08-01T00:00:00\",\"2022-08-02T00:00:00\",\"2022-08-03T00:00:00\",\"2022-08-04T00:00:00\"],\"y\":[266.7200012207031,265.92999267578125,261.3999938964844,267.55999755859375,278.7300109863281,278.1199951171875,284.7900085449219,277.1099853515625,283.2900085449219,267.6700134277344,280.8299865722656,263.1099853515625,261.3599853515625,265.29998779296875,287.3800048828125,294.67999267578125,293.4100036621094,278.7699890136719,272.42999267578125,276.4800109863281,275.0799865722656,276.95001220703125,278.9599914550781,275.0,271.9700012207031,272.94000244140625,269.70001220703125,268.42999267578125,276.9200134277344,275.5899963378906,277.80999755859375,276.9700012207031,286.54998779296875,287.5199890136719,281.8500061035156,279.70001220703125,285.5799865722656,283.3999938964844,277.9200134277344,277.1199951171875,273.54998779296875,274.19000244140625,275.54998779296875,275.6700134277344,274.4800109863281,276.3999938964844,272.7900085449219,267.0899963378906,268.1099853515625,267.3999938964844,277.0,276.7799987792969,271.8699951171875,273.1600036621094,268.94000244140625,270.9700012207031,263.30999755859375,268.739990234375,267.57000732421875,256.8399963378906,251.08999633789062,251.63999938964844,245.63999938964844,251.36000061035156,261.1000061035156,267.4800109863281,272.8699951171875,274.5,278.010009765625,282.04998779296875,272.1400146484375,265.0,258.3299865722656,262.010009765625,267.0799865722656,266.6499938964844,266.489990234375,268.1000061035156,266.5799865722656,269.45001220703125,271.8699951171875,270.3900146484375,270.5,273.9700012207031,273.57000732421875,269.3900146484375,261.55999755859375,260.3299865722656,265.8599853515625,264.30999755859375,254.69000244140625,257.6199951171875,264.9100036621094,259.0,255.41000366210938,257.6400146484375,264.2799987792969,255.30999755859375,265.739990234375,264.8999938964844,273.8800048828125,268.3999938964844,273.75,279.2799987792969,284.010009765625,278.6199951171875,290.1099853515625,293.5400085449219,290.6300048828125,282.1400146484375,278.739990234375,283.0199890136719,290.82000732421875,288.0,294.5299987792969,298.6600036621094,308.9100036621094,306.260009765625,313.0899963378906,313.0199890136719,312.4599914550781,311.5400085449219,309.760009765625,302.82000732421875,307.82000732421875,306.17999267578125,302.239990234375,302.6499938964844,301.4700012207031,296.5199890136719,301.1300048828125,303.0400085449219,303.57000732421875,307.1000061035156,329.510009765625,325.0799865722656,322.5799865722656,318.3599853515625,315.0199890136719,320.0199890136719,319.0799865722656,305.9700012207031,306.5299987792969,302.54998779296875,305.260009765625,315.94000244140625,315.4599914550781,309.9599914550781,313.5899963378906,318.6099853515625,316.2300109863281,324.6300048828125,327.7900085449219,327.6600036621094,332.75,328.7300109863281,329.1300048828125,329.1499938964844,326.0400085449219,330.3500061035156,336.5799865722656,333.67999267578125,330.25,332.4599914550781,331.260009765625,336.7699890136719,336.75,331.0799865722656,336.510009765625,329.6600036621094,332.2900085449219,339.0299987792969,340.5899963378906,343.17999267578125,341.3699951171875,355.6400146484375,351.8900146484375,347.7099914550781,354.3900146484375,354.70001220703125,352.7799987792969,350.489990234375,345.6499938964844,350.4200134277344,353.1600036621094,352.0899963378906,347.6300048828125,344.4599914550781,341.1600036621094,336.95001220703125,341.6600036621094,346.2300109863281,351.19000244140625,369.7900085449219,372.4599914550781,367.80999755859375,373.2799987792969,358.32000732421875,356.29998779296875,351.95001220703125,351.239990234375,358.9200134277344,362.9700012207031,363.510009765625,361.6099853515625,361.1300048828125,359.9599914550781,362.6499938964844,363.17999267578125,366.55999755859375,358.45001220703125,355.45001220703125,355.1199951171875,359.3699951171875,363.3500061035156,365.510009765625,368.3900146484375,364.3800048828125,372.6300048828125,380.6600036621094,379.3800048828125,382.04998779296875,375.2799987792969,376.260009765625,382.17999267578125,377.57000732421875,378.0,378.69000244140625,376.510009765625,376.5299987792969,373.9200134277344,373.05999755859375,364.7200012207031,355.70001220703125,357.4800109863281,343.2099914550781,345.9599914550781,352.9599914550781,353.5799865722656,340.6499938964844,339.6099853515625,339.3900146484375,343.010009765625,326.2300109863281,332.9599914550781,333.6400146484375,329.2200012207031,330.04998779296875,325.45001220703125,323.7699890136719,324.5400085449219,328.5299987792969,324.760009765625,335.3399963378906,339.989990234375,340.7799987792969,341.8800048828125,324.6099853515625,328.69000244140625,315.80999755859375,312.2200012207031,316.9200134277344,323.57000732421875,329.9800109863281,328.0799865722656,331.6199951171875,335.8500061035156,341.1300048828125,338.6199951171875,335.3699951171875,327.6400146484375,327.739990234375,340.8900146484375,347.55999755859375,342.9599914550781,340.7699890136719,338.69000244140625,345.29998779296875,341.010009765625,337.25,341.05999755859375,333.1199951171875,338.0299987792969,324.4599914550781,310.6000061035156,310.3900146484375,306.8399963378906,317.8699951171875,322.80999755859375,330.55999755859375,329.82000732421875,329.75,334.489990234375,333.739990234375,341.6600036621094,334.8999938964844,333.7900085449219,325.45001220703125,334.20001220703125,330.45001220703125,335.239990234375,346.17999267578125,346.2200012207031,342.94000244140625,344.3599853515625,336.3500061035156,338.5400085449219,336.5299987792969,324.1700134277344,332.4599914550781,331.7900085449219,328.07000732421875,334.3699951171875,333.260009765625,326.4800109863281,331.8999938964844,318.1499938964844,319.5899963378906,316.55999755859375,303.1700134277344,308.7099914550781,300.1499938964844,294.6300048828125,294.6400146484375,301.7099914550781,313.260009765625,319.0,323.0,237.75999450683594,237.08999633789062,224.91000366210938,220.17999267578125,232.0,228.07000732421875,219.5500030517578,217.6999969482422,221.0,216.5399932861328,207.7100067138672,206.16000366210938,202.0800018310547,198.4499969482422,207.60000610351562,210.47999572753906,211.02999877929688,203.49000549316406,208.11000061035156,202.97000122070312,200.05999755859375,187.47000122070312,190.2899932861328,198.5,195.2100067138672,187.61000061035156,186.6300048828125,192.02999877929688,203.6300048828125,207.83999633789062,216.49000549316406,211.49000549316406,216.64999389648438,213.4600067138672,219.57000732421875,221.82000732421875,223.58999633789062,229.86000061035156,227.85000610351562,222.36000061035156,224.85000610351562,233.88999938964844,231.83999633789062,223.3000030517578,222.9499969482422,222.3300018310547,216.4600067138672,214.13999938964844,214.99000549316406,210.17999267578125,210.77000427246094,217.30999755859375,200.4199981689453,188.07000732421875,184.11000061035156,186.99000549316406,180.9499969482422,174.9499969482422,205.72999572753906,200.47000122070312,211.1300048828125,212.02999877929688,223.41000366210938,208.27999877929688,203.77000427246094,196.2100067138672,197.64999389648438,188.74000549316406,191.24000549316406,198.6199951171875,200.0399932861328,202.6199951171875,192.24000549316406,191.2899932861328,193.5399932861328,196.22999572753906,181.27999877929688,183.8300018310547,191.6300048828125,195.1300048828125,193.63999938964844,188.63999938964844,198.86000061035156,190.77999877929688,194.25,195.64999389648438,196.63999938964844,184.0,175.57000732421875,164.25999450683594,163.72999572753906,169.35000610351562,160.8699951171875,163.74000549316406,157.0500030517578,155.85000610351562,158.75,170.16000366210938,169.49000549316406,160.67999267578125,163.94000244140625,161.25,160.02999877929688,168.19000244140625,169.77000427246094,172.19000244140625,170.8800048828125,162.8800048828125,163.27000427246094,163.49000549316406,158.0500030517578,164.6999969482422,167.22999572753906,175.77999877929688,183.08999633789062,183.1699981689453,169.27000427246094,166.64999389648438,159.14999389648438,169.5800018310547,160.72000122070312,159.10000610351562,159.92999267578125,160.19000244140625,168.8000030517578,170.57000732421875],\"type\":\"scatter\"},{\"line\":{\"color\":\"darksalmon\",\"dash\":\"dashdot\"},\"name\":\"test\",\"x\":[\"2020-10-15T00:00:00\",\"2020-10-16T00:00:00\",\"2020-10-19T00:00:00\",\"2020-10-20T00:00:00\",\"2020-10-21T00:00:00\",\"2020-10-22T00:00:00\",\"2020-10-23T00:00:00\",\"2020-10-26T00:00:00\",\"2020-10-27T00:00:00\",\"2020-10-28T00:00:00\",\"2020-10-29T00:00:00\",\"2020-10-30T00:00:00\",\"2020-11-02T00:00:00\",\"2020-11-03T00:00:00\",\"2020-11-04T00:00:00\",\"2020-11-05T00:00:00\",\"2020-11-06T00:00:00\",\"2020-11-09T00:00:00\",\"2020-11-10T00:00:00\",\"2020-11-11T00:00:00\",\"2020-11-12T00:00:00\",\"2020-11-13T00:00:00\",\"2020-11-16T00:00:00\",\"2020-11-17T00:00:00\",\"2020-11-18T00:00:00\",\"2020-11-19T00:00:00\",\"2020-11-20T00:00:00\",\"2020-11-23T00:00:00\",\"2020-11-24T00:00:00\",\"2020-11-25T00:00:00\",\"2020-11-27T00:00:00\",\"2020-11-30T00:00:00\",\"2020-12-01T00:00:00\",\"2020-12-02T00:00:00\",\"2020-12-03T00:00:00\",\"2020-12-04T00:00:00\",\"2020-12-07T00:00:00\",\"2020-12-08T00:00:00\",\"2020-12-09T00:00:00\",\"2020-12-10T00:00:00\",\"2020-12-11T00:00:00\",\"2020-12-14T00:00:00\",\"2020-12-15T00:00:00\",\"2020-12-16T00:00:00\",\"2020-12-17T00:00:00\",\"2020-12-18T00:00:00\",\"2020-12-21T00:00:00\",\"2020-12-22T00:00:00\",\"2020-12-23T00:00:00\",\"2020-12-24T00:00:00\",\"2020-12-28T00:00:00\",\"2020-12-29T00:00:00\",\"2020-12-30T00:00:00\",\"2020-12-31T00:00:00\",\"2021-01-04T00:00:00\",\"2021-01-05T00:00:00\",\"2021-01-06T00:00:00\",\"2021-01-07T00:00:00\",\"2021-01-08T00:00:00\",\"2021-01-11T00:00:00\",\"2021-01-12T00:00:00\",\"2021-01-13T00:00:00\",\"2021-01-14T00:00:00\",\"2021-01-15T00:00:00\",\"2021-01-19T00:00:00\",\"2021-01-20T00:00:00\",\"2021-01-21T00:00:00\",\"2021-01-22T00:00:00\",\"2021-01-25T00:00:00\",\"2021-01-26T00:00:00\",\"2021-01-27T00:00:00\",\"2021-01-28T00:00:00\",\"2021-01-29T00:00:00\",\"2021-02-01T00:00:00\",\"2021-02-02T00:00:00\",\"2021-02-03T00:00:00\",\"2021-02-04T00:00:00\",\"2021-02-05T00:00:00\",\"2021-02-08T00:00:00\",\"2021-02-09T00:00:00\",\"2021-02-10T00:00:00\",\"2021-02-11T00:00:00\",\"2021-02-12T00:00:00\",\"2021-02-16T00:00:00\",\"2021-02-17T00:00:00\",\"2021-02-18T00:00:00\",\"2021-02-19T00:00:00\",\"2021-02-22T00:00:00\",\"2021-02-23T00:00:00\",\"2021-02-24T00:00:00\",\"2021-02-25T00:00:00\",\"2021-02-26T00:00:00\",\"2021-03-01T00:00:00\",\"2021-03-02T00:00:00\",\"2021-03-03T00:00:00\",\"2021-03-04T00:00:00\",\"2021-03-05T00:00:00\",\"2021-03-08T00:00:00\",\"2021-03-09T00:00:00\",\"2021-03-10T00:00:00\",\"2021-03-11T00:00:00\",\"2021-03-12T00:00:00\",\"2021-03-15T00:00:00\",\"2021-03-16T00:00:00\",\"2021-03-17T00:00:00\",\"2021-03-18T00:00:00\",\"2021-03-19T00:00:00\",\"2021-03-22T00:00:00\",\"2021-03-23T00:00:00\",\"2021-03-24T00:00:00\",\"2021-03-25T00:00:00\",\"2021-03-26T00:00:00\",\"2021-03-29T00:00:00\",\"2021-03-30T00:00:00\",\"2021-03-31T00:00:00\",\"2021-04-01T00:00:00\",\"2021-04-05T00:00:00\",\"2021-04-06T00:00:00\",\"2021-04-07T00:00:00\",\"2021-04-08T00:00:00\",\"2021-04-09T00:00:00\",\"2021-04-12T00:00:00\",\"2021-04-13T00:00:00\",\"2021-04-14T00:00:00\",\"2021-04-15T00:00:00\",\"2021-04-16T00:00:00\",\"2021-04-19T00:00:00\",\"2021-04-20T00:00:00\",\"2021-04-21T00:00:00\",\"2021-04-22T00:00:00\",\"2021-04-23T00:00:00\",\"2021-04-26T00:00:00\",\"2021-04-27T00:00:00\",\"2021-04-28T00:00:00\",\"2021-04-29T00:00:00\",\"2021-04-30T00:00:00\",\"2021-05-03T00:00:00\",\"2021-05-04T00:00:00\",\"2021-05-05T00:00:00\",\"2021-05-06T00:00:00\",\"2021-05-07T00:00:00\",\"2021-05-10T00:00:00\",\"2021-05-11T00:00:00\",\"2021-05-12T00:00:00\",\"2021-05-13T00:00:00\",\"2021-05-14T00:00:00\",\"2021-05-17T00:00:00\",\"2021-05-18T00:00:00\",\"2021-05-19T00:00:00\",\"2021-05-20T00:00:00\",\"2021-05-21T00:00:00\",\"2021-05-24T00:00:00\",\"2021-05-25T00:00:00\",\"2021-05-26T00:00:00\",\"2021-05-27T00:00:00\",\"2021-05-28T00:00:00\",\"2021-06-01T00:00:00\",\"2021-06-02T00:00:00\",\"2021-06-03T00:00:00\",\"2021-06-04T00:00:00\",\"2021-06-07T00:00:00\",\"2021-06-08T00:00:00\",\"2021-06-09T00:00:00\",\"2021-06-10T00:00:00\",\"2021-06-11T00:00:00\",\"2021-06-14T00:00:00\",\"2021-06-15T00:00:00\",\"2021-06-16T00:00:00\",\"2021-06-17T00:00:00\",\"2021-06-18T00:00:00\",\"2021-06-21T00:00:00\",\"2021-06-22T00:00:00\",\"2021-06-23T00:00:00\",\"2021-06-24T00:00:00\",\"2021-06-25T00:00:00\",\"2021-06-28T00:00:00\",\"2021-06-29T00:00:00\",\"2021-06-30T00:00:00\",\"2021-07-01T00:00:00\",\"2021-07-02T00:00:00\",\"2021-07-06T00:00:00\",\"2021-07-07T00:00:00\",\"2021-07-08T00:00:00\",\"2021-07-09T00:00:00\",\"2021-07-12T00:00:00\",\"2021-07-13T00:00:00\",\"2021-07-14T00:00:00\",\"2021-07-15T00:00:00\",\"2021-07-16T00:00:00\",\"2021-07-19T00:00:00\",\"2021-07-20T00:00:00\",\"2021-07-21T00:00:00\",\"2021-07-22T00:00:00\",\"2021-07-23T00:00:00\",\"2021-07-26T00:00:00\",\"2021-07-27T00:00:00\",\"2021-07-28T00:00:00\",\"2021-07-29T00:00:00\",\"2021-07-30T00:00:00\",\"2021-08-02T00:00:00\",\"2021-08-03T00:00:00\",\"2021-08-04T00:00:00\",\"2021-08-05T00:00:00\",\"2021-08-06T00:00:00\",\"2021-08-09T00:00:00\",\"2021-08-10T00:00:00\",\"2021-08-11T00:00:00\",\"2021-08-12T00:00:00\",\"2021-08-13T00:00:00\",\"2021-08-16T00:00:00\",\"2021-08-17T00:00:00\",\"2021-08-18T00:00:00\",\"2021-08-19T00:00:00\",\"2021-08-20T00:00:00\",\"2021-08-23T00:00:00\",\"2021-08-24T00:00:00\",\"2021-08-25T00:00:00\",\"2021-08-26T00:00:00\",\"2021-08-27T00:00:00\",\"2021-08-30T00:00:00\",\"2021-08-31T00:00:00\",\"2021-09-01T00:00:00\",\"2021-09-02T00:00:00\",\"2021-09-03T00:00:00\",\"2021-09-07T00:00:00\",\"2021-09-08T00:00:00\",\"2021-09-09T00:00:00\",\"2021-09-10T00:00:00\",\"2021-09-13T00:00:00\",\"2021-09-14T00:00:00\",\"2021-09-15T00:00:00\",\"2021-09-16T00:00:00\",\"2021-09-17T00:00:00\",\"2021-09-20T00:00:00\",\"2021-09-21T00:00:00\",\"2021-09-22T00:00:00\",\"2021-09-23T00:00:00\",\"2021-09-24T00:00:00\",\"2021-09-27T00:00:00\",\"2021-09-28T00:00:00\",\"2021-09-29T00:00:00\",\"2021-09-30T00:00:00\",\"2021-10-01T00:00:00\",\"2021-10-04T00:00:00\",\"2021-10-05T00:00:00\",\"2021-10-06T00:00:00\",\"2021-10-07T00:00:00\",\"2021-10-08T00:00:00\",\"2021-10-11T00:00:00\",\"2021-10-12T00:00:00\",\"2021-10-13T00:00:00\",\"2021-10-14T00:00:00\",\"2021-10-15T00:00:00\",\"2021-10-18T00:00:00\",\"2021-10-19T00:00:00\",\"2021-10-20T00:00:00\",\"2021-10-21T00:00:00\",\"2021-10-22T00:00:00\",\"2021-10-25T00:00:00\",\"2021-10-26T00:00:00\",\"2021-10-27T00:00:00\",\"2021-10-28T00:00:00\",\"2021-10-29T00:00:00\",\"2021-11-01T00:00:00\",\"2021-11-02T00:00:00\",\"2021-11-03T00:00:00\",\"2021-11-04T00:00:00\",\"2021-11-05T00:00:00\",\"2021-11-08T00:00:00\",\"2021-11-09T00:00:00\",\"2021-11-10T00:00:00\",\"2021-11-11T00:00:00\",\"2021-11-12T00:00:00\",\"2021-11-15T00:00:00\",\"2021-11-16T00:00:00\",\"2021-11-17T00:00:00\",\"2021-11-18T00:00:00\",\"2021-11-19T00:00:00\",\"2021-11-22T00:00:00\",\"2021-11-23T00:00:00\",\"2021-11-24T00:00:00\",\"2021-11-26T00:00:00\",\"2021-11-29T00:00:00\",\"2021-11-30T00:00:00\",\"2021-12-01T00:00:00\",\"2021-12-02T00:00:00\",\"2021-12-03T00:00:00\",\"2021-12-06T00:00:00\",\"2021-12-07T00:00:00\",\"2021-12-08T00:00:00\",\"2021-12-09T00:00:00\",\"2021-12-10T00:00:00\",\"2021-12-13T00:00:00\",\"2021-12-14T00:00:00\",\"2021-12-15T00:00:00\",\"2021-12-16T00:00:00\",\"2021-12-17T00:00:00\",\"2021-12-20T00:00:00\",\"2021-12-21T00:00:00\",\"2021-12-22T00:00:00\",\"2021-12-23T00:00:00\",\"2021-12-27T00:00:00\",\"2021-12-28T00:00:00\",\"2021-12-29T00:00:00\",\"2021-12-30T00:00:00\",\"2021-12-31T00:00:00\",\"2022-01-03T00:00:00\",\"2022-01-04T00:00:00\",\"2022-01-05T00:00:00\",\"2022-01-06T00:00:00\",\"2022-01-07T00:00:00\",\"2022-01-10T00:00:00\",\"2022-01-11T00:00:00\",\"2022-01-12T00:00:00\",\"2022-01-13T00:00:00\",\"2022-01-14T00:00:00\",\"2022-01-18T00:00:00\",\"2022-01-19T00:00:00\",\"2022-01-20T00:00:00\",\"2022-01-21T00:00:00\",\"2022-01-24T00:00:00\",\"2022-01-25T00:00:00\",\"2022-01-26T00:00:00\",\"2022-01-27T00:00:00\",\"2022-01-28T00:00:00\",\"2022-01-31T00:00:00\",\"2022-02-01T00:00:00\",\"2022-02-02T00:00:00\",\"2022-02-03T00:00:00\",\"2022-02-04T00:00:00\",\"2022-02-07T00:00:00\",\"2022-02-08T00:00:00\",\"2022-02-09T00:00:00\",\"2022-02-10T00:00:00\",\"2022-02-11T00:00:00\",\"2022-02-14T00:00:00\",\"2022-02-15T00:00:00\",\"2022-02-16T00:00:00\",\"2022-02-17T00:00:00\",\"2022-02-18T00:00:00\",\"2022-02-22T00:00:00\",\"2022-02-23T00:00:00\",\"2022-02-24T00:00:00\",\"2022-02-25T00:00:00\",\"2022-02-28T00:00:00\",\"2022-03-01T00:00:00\",\"2022-03-02T00:00:00\",\"2022-03-03T00:00:00\",\"2022-03-04T00:00:00\",\"2022-03-07T00:00:00\",\"2022-03-08T00:00:00\",\"2022-03-09T00:00:00\",\"2022-03-10T00:00:00\",\"2022-03-11T00:00:00\",\"2022-03-14T00:00:00\",\"2022-03-15T00:00:00\",\"2022-03-16T00:00:00\",\"2022-03-17T00:00:00\",\"2022-03-18T00:00:00\",\"2022-03-21T00:00:00\",\"2022-03-22T00:00:00\",\"2022-03-23T00:00:00\",\"2022-03-24T00:00:00\",\"2022-03-25T00:00:00\",\"2022-03-28T00:00:00\",\"2022-03-29T00:00:00\",\"2022-03-30T00:00:00\",\"2022-03-31T00:00:00\",\"2022-04-01T00:00:00\",\"2022-04-04T00:00:00\",\"2022-04-05T00:00:00\",\"2022-04-06T00:00:00\",\"2022-04-07T00:00:00\",\"2022-04-08T00:00:00\",\"2022-04-11T00:00:00\",\"2022-04-12T00:00:00\",\"2022-04-13T00:00:00\",\"2022-04-14T00:00:00\",\"2022-04-18T00:00:00\",\"2022-04-19T00:00:00\",\"2022-04-20T00:00:00\",\"2022-04-21T00:00:00\",\"2022-04-22T00:00:00\",\"2022-04-25T00:00:00\",\"2022-04-26T00:00:00\",\"2022-04-27T00:00:00\",\"2022-04-28T00:00:00\",\"2022-04-29T00:00:00\",\"2022-05-02T00:00:00\",\"2022-05-03T00:00:00\",\"2022-05-04T00:00:00\",\"2022-05-05T00:00:00\",\"2022-05-06T00:00:00\",\"2022-05-09T00:00:00\",\"2022-05-10T00:00:00\",\"2022-05-11T00:00:00\",\"2022-05-12T00:00:00\",\"2022-05-13T00:00:00\",\"2022-05-16T00:00:00\",\"2022-05-17T00:00:00\",\"2022-05-18T00:00:00\",\"2022-05-19T00:00:00\",\"2022-05-20T00:00:00\",\"2022-05-23T00:00:00\",\"2022-05-24T00:00:00\",\"2022-05-25T00:00:00\",\"2022-05-26T00:00:00\",\"2022-05-27T00:00:00\",\"2022-05-31T00:00:00\",\"2022-06-01T00:00:00\",\"2022-06-02T00:00:00\",\"2022-06-03T00:00:00\",\"2022-06-06T00:00:00\",\"2022-06-07T00:00:00\",\"2022-06-08T00:00:00\",\"2022-06-09T00:00:00\",\"2022-06-10T00:00:00\",\"2022-06-13T00:00:00\",\"2022-06-14T00:00:00\",\"2022-06-15T00:00:00\",\"2022-06-16T00:00:00\",\"2022-06-17T00:00:00\",\"2022-06-21T00:00:00\",\"2022-06-22T00:00:00\",\"2022-06-23T00:00:00\",\"2022-06-24T00:00:00\",\"2022-06-27T00:00:00\",\"2022-06-28T00:00:00\",\"2022-06-29T00:00:00\",\"2022-06-30T00:00:00\",\"2022-07-01T00:00:00\",\"2022-07-05T00:00:00\",\"2022-07-06T00:00:00\",\"2022-07-07T00:00:00\",\"2022-07-08T00:00:00\",\"2022-07-11T00:00:00\",\"2022-07-12T00:00:00\",\"2022-07-13T00:00:00\",\"2022-07-14T00:00:00\",\"2022-07-15T00:00:00\",\"2022-07-18T00:00:00\",\"2022-07-19T00:00:00\",\"2022-07-20T00:00:00\",\"2022-07-21T00:00:00\",\"2022-07-22T00:00:00\",\"2022-07-25T00:00:00\",\"2022-07-26T00:00:00\",\"2022-07-27T00:00:00\",\"2022-07-28T00:00:00\",\"2022-07-29T00:00:00\",\"2022-08-01T00:00:00\",\"2022-08-02T00:00:00\",\"2022-08-03T00:00:00\",\"2022-08-04T00:00:00\"],\"y\":[258.0086975097656,259.0658874511719,259.6712646484375,259.6590576171875,259.6587829589844,260.36993408203125,261.4255676269531,263.0550231933594,264.4305114746094,265.95672607421875,266.4605712890625,267.1505126953125,266.7532958984375,265.61871337890625,264.3499450683594,264.4869079589844,265.9326171875,268.01397705078125,269.41864013671875,269.91680908203125,270.0730285644531,269.9032897949219,269.661865234375,269.517822265625,269.1905517578125,268.58563232421875,267.9147033691406,267.04010009765625,266.0229187011719,265.5298767089844,265.3027038574219,265.4049377441406,265.6504211425781,266.5817565917969,267.9248962402344,269.0704345703125,269.883056640625,270.8054504394531,271.58135986328125,271.86590576171875,271.77984619140625,271.2396545410156,270.4983825683594,269.7677001953125,269.10107421875,268.4463806152344,267.97015380859375,267.4061584472656,266.4693298339844,265.43646240234375,264.36651611328125,263.96142578125,263.9744873046875,263.9396057128906,263.9677734375,263.76055908203125,263.55548095703125,262.8724365234375,262.2951965332031,261.74005126953125,260.55548095703125,258.7066650390625,256.6086730957031,254.11239624023438,251.9119873046875,250.664794921875,250.50340270996094,251.37965393066406,252.94935607910156,255.07020568847656,257.6422424316406,259.67572021484375,260.78466796875,260.8149719238281,260.4065246582031,260.0669250488281,259.7610168457031,259.4916076660156,259.3689270019531,259.2484130859375,259.32415771484375,259.6681823730469,260.059326171875,260.46240234375,261.065673828125,261.7212829589844,262.0976867675781,261.7779235839844,260.9741516113281,260.2742004394531,259.580322265625,258.3282470703125,257.0138244628906,256.2108154296875,255.39793395996094,254.41693115234375,253.54507446289062,253.2229461669922,252.6865234375,252.7347869873047,253.07806396484375,254.1617889404297,255.27310180664062,256.6763610839844,258.509765625,260.77978515625,262.8135070800781,265.29852294921875,268.0905456542969,270.6875305175781,272.4415588378906,273.33837890625,273.90924072265625,274.7231140136719,275.4406433105469,276.4700012207031,277.87396240234375,280.0587158203125,282.3913269042969,285.0888977050781,287.8028259277344,290.29559326171875,292.412109375,294.02862548828125,294.780029296875,295.26519775390625,295.43414306640625,295.1482849121094,294.63226318359375,293.93292236328125,292.85809326171875,291.92498779296875,291.2576904296875,290.83465576171875,290.8174743652344,292.4662170410156,294.7159423828125,297.03302001953125,298.9622802734375,300.3050231933594,301.5041809082031,302.45599365234375,302.3616027832031,301.6834411621094,300.43499755859375,299.0976257324219,298.4678039550781,298.2750244140625,298.0267028808594,298.0021057128906,298.4269714355469,298.941650390625,300.0103759765625,301.529541015625,303.2063293457031,305.1809387207031,306.93377685546875,308.4548645019531,309.72039794921875,310.53900146484375,311.296875,312.3429260253906,313.29791259765625,313.91973876953125,314.43475341796875,314.7648010253906,315.30316162109375,315.9183654785156,316.1824951171875,316.5613098144531,316.5419006347656,316.4559326171875,316.7492370605469,317.3397216796875,318.2317810058594,319.1279602050781,320.8568115234375,322.7088928222656,324.2508239746094,325.912353515625,327.5279846191406,328.8760070800781,329.8209533691406,330.1507263183594,330.38189697265625,330.69281005859375,330.9578552246094,330.9012756347656,330.4631042480469,329.6214904785156,328.3354797363281,327.1687316894531,326.4329833984375,326.31732177734375,327.7423095703125,330.1415710449219,332.67425537109375,335.4522705078125,337.2332763671875,338.17633056640625,338.26422119140625,337.78143310546875,337.4571533203125,337.4866943359375,337.75872802734375,338.0437316894531,338.29132080078125,338.4256896972656,338.6485900878906,338.9350891113281,339.4473876953125,339.5516662597656,339.23077392578125,338.6558532714844,338.22821044921875,338.1584167480469,338.4398498535156,339.0919494628906,339.6707458496094,340.68170166015625,342.35919189453125,344.2247619628906,346.23626708984375,347.7636413574219,348.95587158203125,350.21258544921875,351.1157531738281,351.7727966308594,352.2700500488281,352.4957275390625,352.54412841796875,352.3188171386719,351.89508056640625,350.86962890625,349.01513671875,346.9156799316406,343.93194580078125,340.8232421875,338.28594970703125,336.3085021972656,334.02227783203125,331.67901611328125,329.4569396972656,327.6953125,325.295166015625,323.1310119628906,321.2939758300781,319.5165710449219,317.9678955078125,316.3842468261719,314.79876708984375,313.3780517578125,312.41070556640625,311.5517578125,311.4956359863281,312.21307373046875,313.40228271484375,314.86773681640625,315.3149108886719,315.3898620605469,314.4085998535156,312.6434020996094,310.8168640136719,309.4894104003906,308.9588928222656,308.83416748046875,309.2006530761719,310.10516357421875,311.60174560546875,313.1894836425781,314.52044677734375,315.1167907714844,315.2345275878906,315.8670349121094,317.1618347167969,318.4743957519531,319.57806396484375,320.3459167480469,321.26531982421875,321.9279479980469,322.15850830078125,322.349609375,321.9971008300781,321.656982421875,320.489990234375,318.0579833984375,315.0280456542969,311.61572265625,308.90582275390625,307.1142578125,306.5042419433594,306.6159973144531,307.1695251464844,308.256103515625,309.5379333496094,311.34661865234375,312.9098815917969,314.1524963378906,314.583984375,315.04522705078125,315.23602294921875,315.5545654296875,316.6044006347656,318.01226806640625,319.3372497558594,320.6105651855469,321.254150390625,321.6136169433594,321.6380310058594,320.68487548828125,319.73822021484375,318.8012390136719,317.7080078125,316.99957275390625,316.4980773925781,315.74114990234375,315.2341003417969,314.0448303222656,312.6367492675781,310.9976806640625,308.4979248046875,306.01513671875,303.1673583984375,299.9647521972656,296.7777099609375,294.2703552246094,293.0821228027344,293.1476135253906,294.2392272949219,290.5035705566406,284.1297912597656,275.7458190917969,266.37969970703125,257.7816467285156,249.98196411132812,242.68496704101562,236.09649658203125,230.6146240234375,225.91513061523438,221.4701385498047,217.39610290527344,213.56842041015625,209.9244842529297,207.23385620117188,205.5079345703125,204.55044555664062,203.6637725830078,203.18862915039062,202.6702423095703,201.9775848388672,200.41079711914062,198.58511352539062,197.24102783203125,196.077392578125,194.6248321533203,193.02989196777344,191.7985076904297,191.62643432617188,192.40895080566406,194.30984497070312,196.4686279296875,198.98504638671875,201.34530639648438,203.8426513671875,206.3954620361328,208.92282104492188,211.66574096679688,214.2228240966797,216.13568115234375,217.67417907714844,219.44859313964844,221.1102752685547,222.04100036621094,222.43084716796875,222.4086456298828,221.74842834472656,220.58514404296875,219.23739624023438,217.55288696289062,215.81199645996094,214.5727081298828,212.64244079589844,209.62701416015625,205.87594604492188,202.09036254882812,198.14219665527344,193.97412109375,191.92819213867188,191.01174926757812,191.58152770996094,193.1138458251953,195.8944091796875,198.29347229003906,200.00698852539062,200.67623901367188,200.7303924560547,199.810302734375,198.50155639648438,197.5065155029297,196.8669891357422,196.66783142089844,196.093994140625,195.26812744140625,194.47950744628906,193.93792724609375,192.62460327148438,191.0835723876953,189.9967041015625,189.4928436279297,189.29998779296875,188.999267578125,189.31280517578125,189.4664306640625,189.7395782470703,190.15634155273438,190.69996643066406,190.47161865234375,189.23150634765625,186.7019805908203,183.48805236816406,180.4083709716797,177.07000732421875,173.98062133789062,170.8220977783203,167.75535583496094,165.1346435546875,163.70458984375,163.0860595703125,162.4657440185547,162.09881591796875,161.73956298828125,161.33042907714844,161.44143676757812,161.9770965576172,162.9084930419922,163.94808959960938,164.4733123779297,164.6619110107422,164.63330078125,164.116455078125,163.75259399414062,163.67079162597656,164.32904052734375,165.88975524902344,167.93157958984375,169.25,169.85337829589844,169.46995544433594,169.1531219482422,168.3214874267578,167.1191864013672,165.81236267089844,164.5413360595703,163.9327392578125],\"type\":\"scatter\"}],                        {\"template\":{\"data\":{\"bar\":[{\"error_x\":{\"color\":\"#2a3f5f\"},\"error_y\":{\"color\":\"#2a3f5f\"},\"marker\":{\"line\":{\"color\":\"#E5ECF6\",\"width\":0.5},\"pattern\":{\"fillmode\":\"overlay\",\"size\":10,\"solidity\":0.2}},\"type\":\"bar\"}],\"barpolar\":[{\"marker\":{\"line\":{\"color\":\"#E5ECF6\",\"width\":0.5},\"pattern\":{\"fillmode\":\"overlay\",\"size\":10,\"solidity\":0.2}},\"type\":\"barpolar\"}],\"carpet\":[{\"aaxis\":{\"endlinecolor\":\"#2a3f5f\",\"gridcolor\":\"white\",\"linecolor\":\"white\",\"minorgridcolor\":\"white\",\"startlinecolor\":\"#2a3f5f\"},\"baxis\":{\"endlinecolor\":\"#2a3f5f\",\"gridcolor\":\"white\",\"linecolor\":\"white\",\"minorgridcolor\":\"white\",\"startlinecolor\":\"#2a3f5f\"},\"type\":\"carpet\"}],\"choropleth\":[{\"colorbar\":{\"outlinewidth\":0,\"ticks\":\"\"},\"type\":\"choropleth\"}],\"contour\":[{\"colorbar\":{\"outlinewidth\":0,\"ticks\":\"\"},\"colorscale\":[[0.0,\"#0d0887\"],[0.1111111111111111,\"#46039f\"],[0.2222222222222222,\"#7201a8\"],[0.3333333333333333,\"#9c179e\"],[0.4444444444444444,\"#bd3786\"],[0.5555555555555556,\"#d8576b\"],[0.6666666666666666,\"#ed7953\"],[0.7777777777777778,\"#fb9f3a\"],[0.8888888888888888,\"#fdca26\"],[1.0,\"#f0f921\"]],\"type\":\"contour\"}],\"contourcarpet\":[{\"colorbar\":{\"outlinewidth\":0,\"ticks\":\"\"},\"type\":\"contourcarpet\"}],\"heatmap\":[{\"colorbar\":{\"outlinewidth\":0,\"ticks\":\"\"},\"colorscale\":[[0.0,\"#0d0887\"],[0.1111111111111111,\"#46039f\"],[0.2222222222222222,\"#7201a8\"],[0.3333333333333333,\"#9c179e\"],[0.4444444444444444,\"#bd3786\"],[0.5555555555555556,\"#d8576b\"],[0.6666666666666666,\"#ed7953\"],[0.7777777777777778,\"#fb9f3a\"],[0.8888888888888888,\"#fdca26\"],[1.0,\"#f0f921\"]],\"type\":\"heatmap\"}],\"heatmapgl\":[{\"colorbar\":{\"outlinewidth\":0,\"ticks\":\"\"},\"colorscale\":[[0.0,\"#0d0887\"],[0.1111111111111111,\"#46039f\"],[0.2222222222222222,\"#7201a8\"],[0.3333333333333333,\"#9c179e\"],[0.4444444444444444,\"#bd3786\"],[0.5555555555555556,\"#d8576b\"],[0.6666666666666666,\"#ed7953\"],[0.7777777777777778,\"#fb9f3a\"],[0.8888888888888888,\"#fdca26\"],[1.0,\"#f0f921\"]],\"type\":\"heatmapgl\"}],\"histogram\":[{\"marker\":{\"pattern\":{\"fillmode\":\"overlay\",\"size\":10,\"solidity\":0.2}},\"type\":\"histogram\"}],\"histogram2d\":[{\"colorbar\":{\"outlinewidth\":0,\"ticks\":\"\"},\"colorscale\":[[0.0,\"#0d0887\"],[0.1111111111111111,\"#46039f\"],[0.2222222222222222,\"#7201a8\"],[0.3333333333333333,\"#9c179e\"],[0.4444444444444444,\"#bd3786\"],[0.5555555555555556,\"#d8576b\"],[0.6666666666666666,\"#ed7953\"],[0.7777777777777778,\"#fb9f3a\"],[0.8888888888888888,\"#fdca26\"],[1.0,\"#f0f921\"]],\"type\":\"histogram2d\"}],\"histogram2dcontour\":[{\"colorbar\":{\"outlinewidth\":0,\"ticks\":\"\"},\"colorscale\":[[0.0,\"#0d0887\"],[0.1111111111111111,\"#46039f\"],[0.2222222222222222,\"#7201a8\"],[0.3333333333333333,\"#9c179e\"],[0.4444444444444444,\"#bd3786\"],[0.5555555555555556,\"#d8576b\"],[0.6666666666666666,\"#ed7953\"],[0.7777777777777778,\"#fb9f3a\"],[0.8888888888888888,\"#fdca26\"],[1.0,\"#f0f921\"]],\"type\":\"histogram2dcontour\"}],\"mesh3d\":[{\"colorbar\":{\"outlinewidth\":0,\"ticks\":\"\"},\"type\":\"mesh3d\"}],\"parcoords\":[{\"line\":{\"colorbar\":{\"outlinewidth\":0,\"ticks\":\"\"}},\"type\":\"parcoords\"}],\"pie\":[{\"automargin\":true,\"type\":\"pie\"}],\"scatter\":[{\"marker\":{\"colorbar\":{\"outlinewidth\":0,\"ticks\":\"\"}},\"type\":\"scatter\"}],\"scatter3d\":[{\"line\":{\"colorbar\":{\"outlinewidth\":0,\"ticks\":\"\"}},\"marker\":{\"colorbar\":{\"outlinewidth\":0,\"ticks\":\"\"}},\"type\":\"scatter3d\"}],\"scattercarpet\":[{\"marker\":{\"colorbar\":{\"outlinewidth\":0,\"ticks\":\"\"}},\"type\":\"scattercarpet\"}],\"scattergeo\":[{\"marker\":{\"colorbar\":{\"outlinewidth\":0,\"ticks\":\"\"}},\"type\":\"scattergeo\"}],\"scattergl\":[{\"marker\":{\"colorbar\":{\"outlinewidth\":0,\"ticks\":\"\"}},\"type\":\"scattergl\"}],\"scattermapbox\":[{\"marker\":{\"colorbar\":{\"outlinewidth\":0,\"ticks\":\"\"}},\"type\":\"scattermapbox\"}],\"scatterpolar\":[{\"marker\":{\"colorbar\":{\"outlinewidth\":0,\"ticks\":\"\"}},\"type\":\"scatterpolar\"}],\"scatterpolargl\":[{\"marker\":{\"colorbar\":{\"outlinewidth\":0,\"ticks\":\"\"}},\"type\":\"scatterpolargl\"}],\"scatterternary\":[{\"marker\":{\"colorbar\":{\"outlinewidth\":0,\"ticks\":\"\"}},\"type\":\"scatterternary\"}],\"surface\":[{\"colorbar\":{\"outlinewidth\":0,\"ticks\":\"\"},\"colorscale\":[[0.0,\"#0d0887\"],[0.1111111111111111,\"#46039f\"],[0.2222222222222222,\"#7201a8\"],[0.3333333333333333,\"#9c179e\"],[0.4444444444444444,\"#bd3786\"],[0.5555555555555556,\"#d8576b\"],[0.6666666666666666,\"#ed7953\"],[0.7777777777777778,\"#fb9f3a\"],[0.8888888888888888,\"#fdca26\"],[1.0,\"#f0f921\"]],\"type\":\"surface\"}],\"table\":[{\"cells\":{\"fill\":{\"color\":\"#EBF0F8\"},\"line\":{\"color\":\"white\"}},\"header\":{\"fill\":{\"color\":\"#C8D4E3\"},\"line\":{\"color\":\"white\"}},\"type\":\"table\"}]},\"layout\":{\"annotationdefaults\":{\"arrowcolor\":\"#2a3f5f\",\"arrowhead\":0,\"arrowwidth\":1},\"autotypenumbers\":\"strict\",\"coloraxis\":{\"colorbar\":{\"outlinewidth\":0,\"ticks\":\"\"}},\"colorscale\":{\"diverging\":[[0,\"#8e0152\"],[0.1,\"#c51b7d\"],[0.2,\"#de77ae\"],[0.3,\"#f1b6da\"],[0.4,\"#fde0ef\"],[0.5,\"#f7f7f7\"],[0.6,\"#e6f5d0\"],[0.7,\"#b8e186\"],[0.8,\"#7fbc41\"],[0.9,\"#4d9221\"],[1,\"#276419\"]],\"sequential\":[[0.0,\"#0d0887\"],[0.1111111111111111,\"#46039f\"],[0.2222222222222222,\"#7201a8\"],[0.3333333333333333,\"#9c179e\"],[0.4444444444444444,\"#bd3786\"],[0.5555555555555556,\"#d8576b\"],[0.6666666666666666,\"#ed7953\"],[0.7777777777777778,\"#fb9f3a\"],[0.8888888888888888,\"#fdca26\"],[1.0,\"#f0f921\"]],\"sequentialminus\":[[0.0,\"#0d0887\"],[0.1111111111111111,\"#46039f\"],[0.2222222222222222,\"#7201a8\"],[0.3333333333333333,\"#9c179e\"],[0.4444444444444444,\"#bd3786\"],[0.5555555555555556,\"#d8576b\"],[0.6666666666666666,\"#ed7953\"],[0.7777777777777778,\"#fb9f3a\"],[0.8888888888888888,\"#fdca26\"],[1.0,\"#f0f921\"]]},\"colorway\":[\"#636efa\",\"#EF553B\",\"#00cc96\",\"#ab63fa\",\"#FFA15A\",\"#19d3f3\",\"#FF6692\",\"#B6E880\",\"#FF97FF\",\"#FECB52\"],\"font\":{\"color\":\"#2a3f5f\"},\"geo\":{\"bgcolor\":\"white\",\"lakecolor\":\"white\",\"landcolor\":\"#E5ECF6\",\"showlakes\":true,\"showland\":true,\"subunitcolor\":\"white\"},\"hoverlabel\":{\"align\":\"left\"},\"hovermode\":\"closest\",\"mapbox\":{\"style\":\"light\"},\"paper_bgcolor\":\"white\",\"plot_bgcolor\":\"#E5ECF6\",\"polar\":{\"angularaxis\":{\"gridcolor\":\"white\",\"linecolor\":\"white\",\"ticks\":\"\"},\"bgcolor\":\"#E5ECF6\",\"radialaxis\":{\"gridcolor\":\"white\",\"linecolor\":\"white\",\"ticks\":\"\"}},\"scene\":{\"xaxis\":{\"backgroundcolor\":\"#E5ECF6\",\"gridcolor\":\"white\",\"gridwidth\":2,\"linecolor\":\"white\",\"showbackground\":true,\"ticks\":\"\",\"zerolinecolor\":\"white\"},\"yaxis\":{\"backgroundcolor\":\"#E5ECF6\",\"gridcolor\":\"white\",\"gridwidth\":2,\"linecolor\":\"white\",\"showbackground\":true,\"ticks\":\"\",\"zerolinecolor\":\"white\"},\"zaxis\":{\"backgroundcolor\":\"#E5ECF6\",\"gridcolor\":\"white\",\"gridwidth\":2,\"linecolor\":\"white\",\"showbackground\":true,\"ticks\":\"\",\"zerolinecolor\":\"white\"}},\"shapedefaults\":{\"line\":{\"color\":\"#2a3f5f\"}},\"ternary\":{\"aaxis\":{\"gridcolor\":\"white\",\"linecolor\":\"white\",\"ticks\":\"\"},\"baxis\":{\"gridcolor\":\"white\",\"linecolor\":\"white\",\"ticks\":\"\"},\"bgcolor\":\"#E5ECF6\",\"caxis\":{\"gridcolor\":\"white\",\"linecolor\":\"white\",\"ticks\":\"\"}},\"title\":{\"x\":0.05},\"xaxis\":{\"automargin\":true,\"gridcolor\":\"white\",\"linecolor\":\"white\",\"ticks\":\"\",\"title\":{\"standoff\":15},\"zerolinecolor\":\"white\",\"zerolinewidth\":2},\"yaxis\":{\"automargin\":true,\"gridcolor\":\"white\",\"linecolor\":\"white\",\"ticks\":\"\",\"title\":{\"standoff\":15},\"zerolinecolor\":\"white\",\"zerolinewidth\":2}}}},                        {\"responsive\": true}                    ).then(function(){\n",
       "                            \n",
       "var gd = document.getElementById('96773dff-dac5-4038-84d0-188276a73c53');\n",
       "var x = new MutationObserver(function (mutations, observer) {{\n",
       "        var display = window.getComputedStyle(gd).display;\n",
       "        if (!display || display === 'none') {{\n",
       "            console.log([gd, 'removed!']);\n",
       "            Plotly.purge(gd);\n",
       "            observer.disconnect();\n",
       "        }}\n",
       "}});\n",
       "\n",
       "// Listen for the removal of the full notebook cells\n",
       "var notebookContainer = gd.closest('#notebook-container');\n",
       "if (notebookContainer) {{\n",
       "    x.observe(notebookContainer, {childList: true});\n",
       "}}\n",
       "\n",
       "// Listen for the clearing of the current output cell\n",
       "var outputEl = gd.closest('.output');\n",
       "if (outputEl) {{\n",
       "    x.observe(outputEl, {childList: true});\n",
       "}}\n",
       "\n",
       "                        })                };                });            </script>        </div>"
      ]
     },
     "metadata": {},
     "output_type": "display_data"
    }
   ],
   "source": [
    "fig = go.Figure()\n",
    "fig.add_trace(go.Scatter(x=df_test.index, y=df_test['Close'], name='actual',line=dict(color='gold')))\n",
    "fig.add_trace(go.Scatter(x=df_test.index, y=df_test['predictions'], name='test',line=dict(color='darksalmon',dash='dashdot')))"
   ]
  },
  {
   "cell_type": "code",
   "execution_count": 69,
   "id": "816664df",
   "metadata": {},
   "outputs": [
    {
     "name": "stderr",
     "output_type": "stream",
     "text": [
      "C:\\Users\\wu110\\AppData\\Local\\Temp/ipykernel_7476/3733652988.py:4: SettingWithCopyWarning:\n",
      "\n",
      "\n",
      "A value is trying to be set on a copy of a slice from a DataFrame.\n",
      "Try using .loc[row_indexer,col_indexer] = value instead\n",
      "\n",
      "See the caveats in the documentation: https://pandas.pydata.org/pandas-docs/stable/user_guide/indexing.html#returning-a-view-versus-a-copy\n",
      "\n"
     ]
    },
    {
     "data": {
      "image/png": "[encoded data removed]",
      "text/plain": [
       "<Figure size 1152x432 with 1 Axes>"
      ]
     },
     "metadata": {
      "needs_background": "light"
     },
     "output_type": "display_data"
    }
   ],
   "source": [
    "# Plot the data\n",
    "train = data[:training_data_len+60]\n",
    "test = data[training_data_len+61:]\n",
    "test['Predictions'] = predictions\n",
    "# Visualize the data\n",
    "plt.figure(figsize=(16,6))\n",
    "plt.title('Model')\n",
    "plt.xlabel('Date', fontsize=18)\n",
    "plt.ylabel('Close Price USD ($)', fontsize=18)\n",
    "plt.plot(train['Close'])\n",
    "plt.plot(test[['Close', 'Predictions']])\n",
    "plt.legend(['Train', 'Test', 'Predictions'], loc='lower right')\n",
    "plt.show()"
   ]
  },
  {
   "cell_type": "code",
   "execution_count": 70,
   "id": "b08a310f",
   "metadata": {},
   "outputs": [],
   "source": [
    "# Predict tomorrow\n",
    "forecast=data_seq[-60:]"
   ]
  },
  {
   "cell_type": "code",
   "execution_count": 71,
   "id": "22253242",
   "metadata": {},
   "outputs": [],
   "source": [
    "scaled_forecast= scaler.transform(np.array(forecast).reshape(-1,1))"
   ]
  },
  {
   "cell_type": "code",
   "execution_count": 72,
   "id": "58e8d7f1",
   "metadata": {},
   "outputs": [],
   "source": [
    "scaled_forecast=scaled_forecast.reshape((1, scaled_forecast.shape[0], n_features))"
   ]
  },
  {
   "cell_type": "code",
   "execution_count": 73,
   "id": "4ec055eb",
   "metadata": {},
   "outputs": [
    {
     "data": {
      "text/plain": [
       "array([[163.9011]], dtype=float32)"
      ]
     },
     "execution_count": 73,
     "metadata": {},
     "output_type": "execute_result"
    }
   ],
   "source": [
    "scaler.inverse_transform(model.predict(scaled_forecast))"
   ]
  },
  {
   "cell_type": "markdown",
   "id": "ab113eaa",
   "metadata": {},
   "source": [
    "# Univariate Time Series Analysis : multi-step-ahead forecast"
   ]
  },
  {
   "cell_type": "markdown",
   "id": "853f85b1",
   "metadata": {},
   "source": [
    "## Step 1: Specify the data"
   ]
  },
  {
   "cell_type": "code",
   "execution_count": 74,
   "id": "ff5ccea8",
   "metadata": {},
   "outputs": [],
   "source": [
    "# Create a new dataframe with only the 'Close column \n",
    "data = df.filter(['Close'])\n",
    "# Convert the dataframe to a numpy array\n",
    "dataset = data.values"
   ]
  },
  {
   "cell_type": "markdown",
   "id": "4745f214",
   "metadata": {},
   "source": [
    "## Step 2: Split into train,validation and test"
   ]
  },
  {
   "cell_type": "code",
   "execution_count": 75,
   "id": "fa9f6aef",
   "metadata": {},
   "outputs": [],
   "source": [
    "data_seq=dataset.flatten().tolist()\n",
    "#dataset.reshape(-1).tolist()\n",
    "training_data_len=round(0.8*len(data_seq))\n",
    "data_train=data_seq[:training_data_len]\n",
    "data_test=data_seq[training_data_len:]"
   ]
  },
  {
   "cell_type": "markdown",
   "id": "e0ed1912",
   "metadata": {},
   "source": [
    "## Step 3: standardization and keep a record of the scaler"
   ]
  },
  {
   "cell_type": "code",
   "execution_count": 76,
   "id": "3a2bda06",
   "metadata": {},
   "outputs": [],
   "source": [
    "# Scale the data\n",
    "from sklearn.preprocessing import MinMaxScaler\n",
    "\n",
    "scaler = MinMaxScaler(feature_range=(0,1))\n",
    "scaled_train = scaler.fit_transform(np.array(data_train).reshape(-1,1))"
   ]
  },
  {
   "cell_type": "markdown",
   "id": "67250da5",
   "metadata": {},
   "source": [
    "## Step 4: Transform the data into required structure"
   ]
  },
  {
   "cell_type": "code",
   "execution_count": 77,
   "id": "e2ae8a78",
   "metadata": {},
   "outputs": [],
   "source": [
    "# split a univariate sequence into samples\n",
    "def split_sequence(sequence, n_steps_in, n_steps_out):\n",
    "\tx, y = list(), list()\n",
    "\tfor i in range(len(sequence)):\n",
    "\t\t# find the end of this pattern\n",
    "\t\tend_ix = i + n_steps_in\n",
    "\t\tout_end_ix = end_ix + n_steps_out\n",
    "\t\t# check if we are beyond the sequence\n",
    "\t\tif out_end_ix > len(sequence):\n",
    "\t\t\tbreak\n",
    "\t\t# gather input and output parts of the pattern\n",
    "\t\tseq_x, seq_y = sequence[i:end_ix], sequence[end_ix:out_end_ix]\n",
    "\t\tx.append(seq_x)\n",
    "\t\ty.append(seq_y)\n",
    "\treturn array(x), array(y)"
   ]
  },
  {
   "cell_type": "code",
   "execution_count": 78,
   "id": "e154dcd7",
   "metadata": {},
   "outputs": [],
   "source": [
    "from numpy import array\n",
    "# define input sequence\n",
    "raw_seq = scaled_train.reshape(1,scaled_train.shape[0]).tolist()\n",
    "raw_seq = raw_seq[0]\n",
    "# choose a number of time steps\n",
    "n_steps_in, n_steps_out = 60, 5\n",
    "# split into samples\n",
    "x, y = split_sequence(raw_seq, n_steps_in, n_steps_out)"
   ]
  },
  {
   "cell_type": "code",
   "execution_count": 79,
   "id": "8df24393",
   "metadata": {},
   "outputs": [],
   "source": [
    "train_len=round(x.shape[0]*0.8)"
   ]
  },
  {
   "cell_type": "code",
   "execution_count": 80,
   "id": "3efa7174",
   "metadata": {},
   "outputs": [],
   "source": [
    "# Convert the x_train and y_train to numpy arrays \n",
    "n_features = 1\n",
    "x_train, y_train = x[0:train_len, :], y[0:train_len]\n",
    "x_train = x_train.reshape((x_train.shape[0], x_train.shape[1], n_features))\n",
    "\n",
    "x_validate, y_validate = x[train_len:, :], y[train_len:]\n",
    "x_validate = x_validate.reshape((x_validate.shape[0], x_validate.shape[1], n_features))"
   ]
  },
  {
   "cell_type": "code",
   "execution_count": 81,
   "id": "a270ea33",
   "metadata": {},
   "outputs": [
    {
     "name": "stdout",
     "output_type": "stream",
     "text": [
      "(1594, 60, 1) (1594, 5) (398, 60, 1) (398, 5)\n"
     ]
    }
   ],
   "source": [
    "print(x_train.shape,y_train.shape,x_validate.shape,y_validate.shape)"
   ]
  },
  {
   "cell_type": "markdown",
   "id": "75cd3169",
   "metadata": {},
   "source": [
    "## Step 5: Train the model using keras"
   ]
  },
  {
   "cell_type": "code",
   "execution_count": 82,
   "id": "22e0b279",
   "metadata": {},
   "outputs": [
    {
     "name": "stdout",
     "output_type": "stream",
     "text": [
      "Epoch 1/20\n",
      "1594/1594 [==============================] - 17s 10ms/step - loss: 0.0020 - val_loss: 0.0025\n",
      "Epoch 2/20\n",
      "1594/1594 [==============================] - 16s 10ms/step - loss: 7.9905e-04 - val_loss: 0.0017\n",
      "Epoch 3/20\n",
      "1594/1594 [==============================] - 15s 10ms/step - loss: 7.5917e-04 - val_loss: 0.0020\n",
      "Epoch 4/20\n",
      "1594/1594 [==============================] - 16s 10ms/step - loss: 6.3233e-04 - val_loss: 0.0016\n",
      "Epoch 5/20\n",
      "1594/1594 [==============================] - 19s 12ms/step - loss: 5.1406e-04 - val_loss: 0.0013\n",
      "Epoch 6/20\n",
      "1594/1594 [==============================] - 18s 11ms/step - loss: 5.6411e-04 - val_loss: 0.0011\n",
      "Epoch 7/20\n",
      "1594/1594 [==============================] - 18s 11ms/step - loss: 4.9468e-04 - val_loss: 0.0031\n",
      "Epoch 8/20\n",
      "1594/1594 [==============================] - 18s 11ms/step - loss: 5.0359e-04 - val_loss: 0.0064\n",
      "Epoch 9/20\n",
      "1594/1594 [==============================] - 17s 11ms/step - loss: 4.3040e-04 - val_loss: 0.0010\n",
      "Epoch 10/20\n",
      "1594/1594 [==============================] - 17s 11ms/step - loss: 4.3507e-04 - val_loss: 0.0011\n",
      "Epoch 11/20\n",
      "1594/1594 [==============================] - 17s 11ms/step - loss: 4.2577e-04 - val_loss: 0.0014\n",
      "Epoch 12/20\n",
      "1594/1594 [==============================] - 17s 11ms/step - loss: 3.9877e-04 - val_loss: 0.0014\n",
      "Epoch 13/20\n",
      "1594/1594 [==============================] - 18s 11ms/step - loss: 4.2557e-04 - val_loss: 0.0020\n",
      "Epoch 14/20\n",
      "1594/1594 [==============================] - 17s 11ms/step - loss: 3.8327e-04 - val_loss: 9.7284e-04\n",
      "Epoch 15/20\n",
      "1594/1594 [==============================] - 17s 11ms/step - loss: 3.8887e-04 - val_loss: 0.0043\n",
      "Epoch 16/20\n",
      "1594/1594 [==============================] - 17s 11ms/step - loss: 3.8067e-04 - val_loss: 0.0015\n",
      "Epoch 17/20\n",
      "1594/1594 [==============================] - 17s 11ms/step - loss: 3.8376e-04 - val_loss: 0.0010\n",
      "Epoch 18/20\n",
      "1594/1594 [==============================] - 17s 11ms/step - loss: 4.1818e-04 - val_loss: 9.7301e-04\n",
      "Epoch 19/20\n",
      "1594/1594 [==============================] - 17s 11ms/step - loss: 3.6764e-04 - val_loss: 0.0014\n",
      "Epoch 20/20\n",
      "1594/1594 [==============================] - 17s 11ms/step - loss: 3.7545e-04 - val_loss: 0.0011\n"
     ]
    }
   ],
   "source": [
    "from keras.models import Sequential\n",
    "from keras.layers import Dense, LSTM\n",
    "# Build the LSTM model\n",
    "model = Sequential()\n",
    "model.add(LSTM(128, return_sequences=True, input_shape= (x_train.shape[1], 1)))\n",
    "model.add(LSTM(64, return_sequences=False))\n",
    "model.add(Dense(25))\n",
    "model.add(Dense(n_steps_out))\n",
    "\n",
    "# Compile the model\n",
    "model.compile(optimizer='adam', loss='mean_squared_error')\n",
    "\n",
    "# Train the model\n",
    "history_lstm=model.fit(x_train,y_train,validation_data=(x_validate,y_validate),epochs=20,batch_size=1,verbose=1)\n",
    "#model.fit(x_train, y_train, batch_size=1, epochs=1)"
   ]
  },
  {
   "cell_type": "markdown",
   "id": "8be5f925",
   "metadata": {},
   "source": [
    "## Step 6: Evaluate and plot"
   ]
  },
  {
   "cell_type": "code",
   "execution_count": 83,
   "id": "1ea23aa8",
   "metadata": {},
   "outputs": [
    {
     "data": {
      "image/png": "[encoded data removed]",
      "text/plain": [
       "<Figure size 432x288 with 1 Axes>"
      ]
     },
     "metadata": {
      "needs_background": "light"
     },
     "output_type": "display_data"
    }
   ],
   "source": [
    "import matplotlib.pyplot as plt\n",
    "plt.plot(history_lstm.history['loss'])\n",
    "plt.plot(history_lstm.history['val_loss'])\n",
    "plt.title(\"LSTM Model Loss\")\n",
    "plt.xlabel('Epochs')\n",
    "plt.ylabel('Loss')\n",
    "plt.legend(['Train', 'Valid'])\n",
    "plt.show()"
   ]
  },
  {
   "cell_type": "code",
   "execution_count": 84,
   "id": "10d983a2",
   "metadata": {},
   "outputs": [],
   "source": [
    "scaled_test = scaler.transform(np.array(data_test).reshape(-1,1))\n",
    "# define input sequence\n",
    "raw_seq = scaled_test.reshape(1,scaled_test.shape[0]).tolist()\n",
    "raw_seq = raw_seq[0]\n",
    "# choose a number of time steps\n",
    "n_steps_in, n_steps_out = 60, 5\n",
    "# split into samples\n",
    "x_test, y_test = split_sequence(raw_seq, n_steps_in, n_steps_out)"
   ]
  },
  {
   "cell_type": "code",
   "execution_count": 85,
   "id": "c639d3fa",
   "metadata": {},
   "outputs": [
    {
     "data": {
      "text/plain": [
       "[25.242702210197166,\n",
       " 25.440380916638674,\n",
       " 30.472381718231727,\n",
       " 32.60997748581969,\n",
       " 34.53635105006624]"
      ]
     },
     "execution_count": 85,
     "metadata": {},
     "output_type": "execute_result"
    }
   ],
   "source": [
    "# Get the models predicted price values\n",
    "predictions = model.predict(x_test)\n",
    "predictions = scaler.inverse_transform(predictions)\n",
    "y_test=scaler.inverse_transform(y_test.reshape(-1, 1))\n",
    "# Get the root mean squared error (RMSE)\n",
    "y_test = y_test.reshape(predictions.shape[0],predictions.shape[1])\n",
    "rmse=[]\n",
    "for i in range(0,predictions.shape[1]):\n",
    "    temp = np.sqrt(np.mean(((predictions[:,i] - y_test[:,i]) ** 2)))\n",
    "    rmse.append(temp)\n",
    "rmse"
   ]
  },
  {
   "cell_type": "code",
   "execution_count": 86,
   "id": "f15a296e",
   "metadata": {},
   "outputs": [
    {
     "data": {
      "image/png": "[encoded data removed]",
      "text/plain": [
       "<Figure size 432x288 with 1 Axes>"
      ]
     },
     "metadata": {
      "needs_background": "light"
     },
     "output_type": "display_data"
    }
   ],
   "source": [
    "from matplotlib import pyplot as plt\n",
    "plt.plot(rmse)\n",
    "plt.show()"
   ]
  },
  {
   "cell_type": "code",
   "execution_count": 87,
   "id": "10ee7d32",
   "metadata": {},
   "outputs": [],
   "source": [
    "forecast = data_seq[-60:]"
   ]
  },
  {
   "cell_type": "code",
   "execution_count": 88,
   "id": "d2e319fe",
   "metadata": {},
   "outputs": [],
   "source": [
    "scaled_forecast= scaler.transform(np.array(forecast).reshape(-1,1))"
   ]
  },
  {
   "cell_type": "code",
   "execution_count": 89,
   "id": "bfa6b677",
   "metadata": {},
   "outputs": [],
   "source": [
    "scaled_forecast=scaled_forecast.reshape((1, scaled_forecast.shape[0], n_features))"
   ]
  },
  {
   "cell_type": "code",
   "execution_count": 90,
   "id": "40d9de68",
   "metadata": {},
   "outputs": [
    {
     "data": {
      "text/plain": [
       "array([[173.10187, 174.00027, 171.8445 , 171.07959, 170.25603]],\n",
       "      dtype=float32)"
      ]
     },
     "execution_count": 90,
     "metadata": {},
     "output_type": "execute_result"
    }
   ],
   "source": [
    "#prediction for future 10 days\n",
    "scaler.inverse_transform(model.predict(scaled_forecast))"
   ]
  }
 ],
 "metadata": {
  "kernelspec": {
   "display_name": "Python 3 (ipykernel)",
   "language": "python",
   "name": "python3"
  },
  "language_info": {
   "codemirror_mode": {
    "name": "ipython",
    "version": 3
   },
   "file_extension": ".py",
   "mimetype": "text/x-python",
   "name": "python",
   "nbconvert_exporter": "python",
   "pygments_lexer": "ipython3",
   "version": "3.9.7"
  }
 },
 "nbformat": 4,
 "nbformat_minor": 5
}
